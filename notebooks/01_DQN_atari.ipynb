{
    "cells": [
        {
            "cell_type": "code",
            "execution_count": 1,
            "metadata": {},
            "outputs": [
                {
                    "name": "stdout",
                    "output_type": "stream",
                    "text": [
                        "\u001b[0;35mGym version:\u001b[0m 0.27.0\n",
                        "\u001b[0;35mPytorch version:\u001b[0m 1.12.0+cu113\n"
                    ]
                }
            ],
            "source": [
                "import gymnasium as gym\n",
                "import torch\n",
                "import matplotlib.pyplot as plt\n",
                "import wandb\n",
                "import numpy as np\n",
                "from src.utils.util import ShellColor as sc\n",
                "\n",
                "print(f\"{sc.COLOR_PURPLE}Gym version:{sc.ENDC} {gym.__version__}\")\n",
                "print(f\"{sc.COLOR_PURPLE}Pytorch version:{sc.ENDC} {torch.__version__}\")\n",
                "\n",
                "from src.agents.dqn_agent import DQNAgent\n",
                "from src.utils import util as rl_util"
            ]
        },
        {
            "cell_type": "code",
            "execution_count": 2,
            "metadata": {},
            "outputs": [
                {
                    "name": "stdout",
                    "output_type": "stream",
                    "text": [
                        "============ Env Info ===========\n",
                        "\u001b[0;36mEnv id:\u001b[0m PongNoFrameskip-v4\n",
                        "\u001b[0;36mObservation space size:\u001b[0m (4, 84, 84)\n",
                        "\u001b[0;36mAction space size:\u001b[0m 6\n",
                        "\u001b[0;36mAction list:\u001b[0m ['NOOP', 'FIRE', 'RIGHT', 'LEFT', 'RIGHTFIRE', 'LEFTFIRE']\n",
                        "=================================\n"
                    ]
                },
                {
                    "name": "stderr",
                    "output_type": "stream",
                    "text": [
                        "A.L.E: Arcade Learning Environment (version 0.8.0+919230b)\n",
                        "[Powered by Stella]\n"
                    ]
                }
            ],
            "source": [
                "env_name = \"PongNoFrameskip-v4\"\n",
                "env = gym.make(env_name)\n",
                "env = gym.wrappers.AtariPreprocessing(\n",
                "    env=env, \n",
                "    terminal_on_life_loss=True, \n",
                "    grayscale_obs=True, \n",
                "    scale_obs=False,\n",
                "    noop_max=30)\n",
                "env = gym.wrappers.FrameStack(env, num_stack=4)\n",
                "rl_util.print_env_info(env=env)\n"
            ]
        },
        {
            "cell_type": "code",
            "execution_count": 3,
            "metadata": {},
            "outputs": [
                {
                    "name": "stdout",
                    "output_type": "stream",
                    "text": [
                        "(4, 84, 84)\n"
                    ]
                },
                {
                    "data": {
                        "image/png": "[encoded data removed]",
                        "text/plain": [
                            "<Figure size 1600x900 with 8 Axes>"
                        ]
                    },
                    "metadata": {},
                    "output_type": "display_data"
                }
            ],
            "source": [
                "stacked_obs, info = env.reset()\n",
                "print(stacked_obs.shape)\n",
                "n_cols = 4\n",
                "n_rows = 2\n",
                "fig = plt.figure(figsize=(16, 9))\n",
                "for row in range(n_rows):\n",
                "    for col in range(n_cols):\n",
                "        ax = fig.add_subplot(n_rows, n_cols, row * n_cols + col + 1)\n",
                "        ax.imshow(stacked_obs[col], cmap=\"gray\")\n",
                "        stacked_obs, _, _, _,_ = env.step(env.action_space.sample())\n",
                "plt.show()"
            ]
        },
        {
            "cell_type": "code",
            "execution_count": 4,
            "metadata": {},
            "outputs": [],
            "source": [
                "config = rl_util.create_config()\n",
                "config[\"seed\"]=42\n",
                "config[\"print_frequency\"] = 10"
            ]
        },
        {
            "cell_type": "code",
            "execution_count": 5,
            "metadata": {},
            "outputs": [
                {
                    "name": "stdout",
                    "output_type": "stream",
                    "text": [
                        "Model Initializing... An input shape is (4, 84, 84)\n",
                        "Model Initializing... An input shape is (4, 84, 84)\n",
                        "========== Config Info ==========\n",
                        "\u001b[0;36mn_episodes:\u001b[0m 1000\n",
                        "\u001b[0;36mmax_steps:\u001b[0m 2000000\n",
                        "\u001b[0;36mbatch_size:\u001b[0m 32\n",
                        "\u001b[0;36mgamma:\u001b[0m 0.99\n",
                        "\u001b[0;36mlr:\u001b[0m 0.0001\n",
                        "\u001b[0;36mstart_training_step:\u001b[0m 10000\n",
                        "\u001b[0;36mlearning_frequency:\u001b[0m 1\n",
                        "\u001b[0;36mepsilon_start:\u001b[0m 1\n",
                        "\u001b[0;36mepsilon_end:\u001b[0m 0.01\n",
                        "\u001b[0;36mepsilon_decay:\u001b[0m 300000.0\n",
                        "\u001b[0;36mseed:\u001b[0m 42\n",
                        "\u001b[0;36mtarget_update_frequency:\u001b[0m 1000\n",
                        "\u001b[0;36mbuffer_size:\u001b[0m 50000\n",
                        "\u001b[0;36mdevice:\u001b[0m cuda:0\n",
                        "\u001b[0;36mmean_reward_bound:\u001b[0m 10\n",
                        "\u001b[0;36mprint_frequency:\u001b[0m 10\n",
                        "=================================\n",
                        "<class 'src.commons.memory.replay_memory.ReplayMemory'>\n"
                    ]
                }
            ],
            "source": [
                "agent = DQNAgent(\n",
                "    obs_space_shape=env.observation_space.shape,\n",
                "    action_space_dims=env.action_space.n,\n",
                "    is_atari=True,\n",
                "    config=config,\n",
                ")\n",
                "\n",
                "print(agent.config)\n",
                "print(type(agent.memory))"
            ]
        },
        {
            "cell_type": "code",
            "execution_count": 6,
            "metadata": {},
            "outputs": [],
            "source": [
                "save_dir = \"result/DDQN/atari/\"\n",
                "rl_util.create_directory(save_dir)\n",
                "current_time = rl_util.get_current_time_string()\n",
                "save_model_name = save_dir + env_name + \"_\" + current_time+\".pt\""
            ]
        },
        {
            "cell_type": "code",
            "execution_count": 7,
            "metadata": {},
            "outputs": [
                {
                    "data": {
                        "text/plain": [
                            "'result/DDQN/atari/PongNoFrameskip-v4_2023_02_17_05_09_15.pt'"
                        ]
                    },
                    "execution_count": 7,
                    "metadata": {},
                    "output_type": "execute_result"
                }
            ],
            "source": [
                "save_model_name"
            ]
        },
        {
            "cell_type": "code",
            "execution_count": 8,
            "metadata": {},
            "outputs": [
                {
                    "name": "stdout",
                    "output_type": "stream",
                    "text": [
                        "****************************************\n",
                        "steps: 9008\n",
                        "episode: 10\n",
                        "mean 100 episode return: -20.70\n",
                        "loss: 0\n",
                        "epsilon: 0.97\n",
                        "****************************************\n",
                        "Best mean reward updated -10000.000 -> -20.700, model saved\n",
                        "Start Training at timestep 10001...\n",
                        "****************************************\n",
                        "steps: 18902\n",
                        "episode: 20\n",
                        "mean 100 episode return: -20.30\n",
                        "loss: 10.224943646004249\n",
                        "epsilon: 0.94\n",
                        "****************************************\n",
                        "Best mean reward updated -20.700 -> -20.300, model saved\n",
                        "****************************************\n",
                        "steps: 28478\n",
                        "episode: 30\n",
                        "mean 100 episode return: -20.27\n",
                        "loss: 6.656699126207968\n",
                        "epsilon: 0.91\n",
                        "****************************************\n",
                        "Best mean reward updated -20.300 -> -20.267, model saved\n",
                        "****************************************\n",
                        "steps: 37557\n",
                        "episode: 40\n",
                        "mean 100 episode return: -20.27\n",
                        "loss: 4.648649007867789\n",
                        "epsilon: 0.87\n",
                        "****************************************\n",
                        "****************************************\n",
                        "steps: 47235\n",
                        "episode: 50\n",
                        "mean 100 episode return: -20.16\n",
                        "loss: 4.076383107807487\n",
                        "epsilon: 0.84\n",
                        "****************************************\n",
                        "Best mean reward updated -20.267 -> -20.160, model saved\n",
                        "****************************************\n",
                        "steps: 56401\n",
                        "episode: 60\n",
                        "mean 100 episode return: -20.15\n",
                        "loss: 2.9574982991616707\n",
                        "epsilon: 0.81\n",
                        "****************************************\n",
                        "Best mean reward updated -20.160 -> -20.150, model saved\n",
                        "****************************************\n",
                        "steps: 66555\n",
                        "episode: 70\n",
                        "mean 100 episode return: -20.14\n",
                        "loss: 3.378973185259383\n",
                        "epsilon: 0.78\n",
                        "****************************************\n",
                        "Best mean reward updated -20.150 -> -20.143, model saved\n",
                        "****************************************\n",
                        "steps: 76455\n",
                        "episode: 80\n",
                        "mean 100 episode return: -20.10\n",
                        "loss: 3.017909276095452\n",
                        "epsilon: 0.75\n",
                        "****************************************\n",
                        "Best mean reward updated -20.143 -> -20.100, model saved\n",
                        "****************************************\n",
                        "steps: 86272\n",
                        "episode: 90\n",
                        "mean 100 episode return: -20.10\n",
                        "loss: 3.398125136154704\n",
                        "epsilon: 0.71\n",
                        "****************************************\n",
                        "****************************************\n",
                        "steps: 96508\n",
                        "episode: 100\n",
                        "mean 100 episode return: -20.10\n",
                        "loss: 3.432195494591724\n",
                        "epsilon: 0.68\n",
                        "****************************************\n",
                        "****************************************\n",
                        "steps: 107259\n",
                        "episode: 110\n",
                        "mean 100 episode return: -20.03\n",
                        "loss: 4.181516538956203\n",
                        "epsilon: 0.64\n",
                        "****************************************\n",
                        "Best mean reward updated -20.100 -> -20.030, model saved\n",
                        "****************************************\n",
                        "steps: 118915\n",
                        "episode: 120\n",
                        "mean 100 episode return: -20.00\n",
                        "loss: 4.022991075122263\n",
                        "epsilon: 0.60\n",
                        "****************************************\n",
                        "Best mean reward updated -20.030 -> -20.000, model saved\n",
                        "****************************************\n",
                        "steps: 130317\n",
                        "episode: 130\n",
                        "mean 100 episode return: -19.90\n",
                        "loss: 5.502033897850197\n",
                        "epsilon: 0.57\n",
                        "****************************************\n",
                        "Best mean reward updated -20.000 -> -19.900, model saved\n"
                    ]
                },
                {
                    "ename": "KeyboardInterrupt",
                    "evalue": "",
                    "output_type": "error",
                    "traceback": [
                        "\u001b[0;31m---------------------------------------------------------------------------\u001b[0m",
                        "\u001b[0;31mKeyboardInterrupt\u001b[0m                         Traceback (most recent call last)",
                        "Cell \u001b[0;32mIn[8], line 13\u001b[0m\n\u001b[1;32m     11\u001b[0m epsilon \u001b[39m=\u001b[39m agent\u001b[39m.\u001b[39mdecay_epsilon(t)\n\u001b[1;32m     12\u001b[0m action \u001b[39m=\u001b[39m agent\u001b[39m.\u001b[39mselect_action(obs, epsilon)\n\u001b[0;32m---> 13\u001b[0m next_obs, reward, done, _, _ \u001b[39m=\u001b[39m env\u001b[39m.\u001b[39;49mstep(action)\n\u001b[1;32m     14\u001b[0m agent\u001b[39m.\u001b[39mstore_transition(obs, action, reward, next_obs, done)\n\u001b[1;32m     15\u001b[0m episode_return \u001b[39m+\u001b[39m\u001b[39m=\u001b[39m reward\n",
                        "File \u001b[0;32m~/anaconda3/envs/test/lib/python3.8/site-packages/gymnasium/wrappers/frame_stack.py:174\u001b[0m, in \u001b[0;36mFrameStack.step\u001b[0;34m(self, action)\u001b[0m\n\u001b[1;32m    165\u001b[0m \u001b[39mdef\u001b[39;00m \u001b[39mstep\u001b[39m(\u001b[39mself\u001b[39m, action):\n\u001b[1;32m    166\u001b[0m \u001b[39m    \u001b[39m\u001b[39m\"\"\"Steps through the environment, appending the observation to the frame buffer.\u001b[39;00m\n\u001b[1;32m    167\u001b[0m \n\u001b[1;32m    168\u001b[0m \u001b[39m    Args:\u001b[39;00m\n\u001b[0;32m   (...)\u001b[0m\n\u001b[1;32m    172\u001b[0m \u001b[39m        Stacked observations, reward, terminated, truncated, and information from the environment\u001b[39;00m\n\u001b[1;32m    173\u001b[0m \u001b[39m    \"\"\"\u001b[39;00m\n\u001b[0;32m--> 174\u001b[0m     observation, reward, terminated, truncated, info \u001b[39m=\u001b[39m \u001b[39mself\u001b[39;49m\u001b[39m.\u001b[39;49menv\u001b[39m.\u001b[39;49mstep(action)\n\u001b[1;32m    175\u001b[0m     \u001b[39mself\u001b[39m\u001b[39m.\u001b[39mframes\u001b[39m.\u001b[39mappend(observation)\n\u001b[1;32m    176\u001b[0m     \u001b[39mreturn\u001b[39;00m \u001b[39mself\u001b[39m\u001b[39m.\u001b[39mobservation(\u001b[39mNone\u001b[39;00m), reward, terminated, truncated, info\n",
                        "File \u001b[0;32m~/anaconda3/envs/test/lib/python3.8/site-packages/gymnasium/wrappers/atari_preprocessing.py:149\u001b[0m, in \u001b[0;36mAtariPreprocessing.step\u001b[0;34m(self, action)\u001b[0m\n\u001b[1;32m    147\u001b[0m         \u001b[39melse\u001b[39;00m:\n\u001b[1;32m    148\u001b[0m             \u001b[39mself\u001b[39m\u001b[39m.\u001b[39male\u001b[39m.\u001b[39mgetScreenRGB(\u001b[39mself\u001b[39m\u001b[39m.\u001b[39mobs_buffer[\u001b[39m0\u001b[39m])\n\u001b[0;32m--> 149\u001b[0m \u001b[39mreturn\u001b[39;00m \u001b[39mself\u001b[39;49m\u001b[39m.\u001b[39;49m_get_obs(), total_reward, terminated, truncated, info\n",
                        "File \u001b[0;32m~/anaconda3/envs/test/lib/python3.8/site-packages/gymnasium/wrappers/atari_preprocessing.py:180\u001b[0m, in \u001b[0;36mAtariPreprocessing._get_obs\u001b[0;34m(self)\u001b[0m\n\u001b[1;32m    178\u001b[0m     np\u001b[39m.\u001b[39mmaximum(\u001b[39mself\u001b[39m\u001b[39m.\u001b[39mobs_buffer[\u001b[39m0\u001b[39m], \u001b[39mself\u001b[39m\u001b[39m.\u001b[39mobs_buffer[\u001b[39m1\u001b[39m], out\u001b[39m=\u001b[39m\u001b[39mself\u001b[39m\u001b[39m.\u001b[39mobs_buffer[\u001b[39m0\u001b[39m])\n\u001b[1;32m    179\u001b[0m \u001b[39massert\u001b[39;00m cv2 \u001b[39mis\u001b[39;00m \u001b[39mnot\u001b[39;00m \u001b[39mNone\u001b[39;00m\n\u001b[0;32m--> 180\u001b[0m obs \u001b[39m=\u001b[39m cv2\u001b[39m.\u001b[39;49mresize(\n\u001b[1;32m    181\u001b[0m     \u001b[39mself\u001b[39;49m\u001b[39m.\u001b[39;49mobs_buffer[\u001b[39m0\u001b[39;49m],\n\u001b[1;32m    182\u001b[0m     (\u001b[39mself\u001b[39;49m\u001b[39m.\u001b[39;49mscreen_size, \u001b[39mself\u001b[39;49m\u001b[39m.\u001b[39;49mscreen_size),\n\u001b[1;32m    183\u001b[0m     interpolation\u001b[39m=\u001b[39;49mcv2\u001b[39m.\u001b[39;49mINTER_AREA,\n\u001b[1;32m    184\u001b[0m )\n\u001b[1;32m    186\u001b[0m \u001b[39mif\u001b[39;00m \u001b[39mself\u001b[39m\u001b[39m.\u001b[39mscale_obs:\n\u001b[1;32m    187\u001b[0m     obs \u001b[39m=\u001b[39m np\u001b[39m.\u001b[39masarray(obs, dtype\u001b[39m=\u001b[39mnp\u001b[39m.\u001b[39mfloat32) \u001b[39m/\u001b[39m \u001b[39m255.0\u001b[39m\n",
                        "\u001b[0;31mKeyboardInterrupt\u001b[0m: "
                    ]
                }
            ],
            "source": [
                "obs, _ =  env.reset()\n",
                "episode_returns = []\n",
                "episode_return = 0\n",
                "episode_losses = []\n",
                "episode_loss = 0\n",
                "episode = 0\n",
                "best_mean_return = -10000\n",
                "is_start_train = True\n",
                "\n",
                "for t in range(agent.config.max_steps):\n",
                "    epsilon = agent.decay_epsilon(t)\n",
                "    action = agent.select_action(obs, epsilon)\n",
                "    next_obs, reward, done, _, _ = env.step(action)\n",
                "    agent.store_transition(obs, action, reward, next_obs, done)\n",
                "    episode_return += reward\n",
                "    \n",
                "    if t > agent.config.start_training_step:\n",
                "        if is_start_train:\n",
                "            print(f\"Start Training at timestep {t}...\")\n",
                "            is_start_train = False\n",
                "            \n",
                "        episode_loss += agent.update()\n",
                "        if t % agent.config.target_update_frequency == 0:\n",
                "            agent.update_target_network()\n",
                "\n",
                "    if done:\n",
                "        obs, _ = env.reset()\n",
                "        episode += 1\n",
                "        episode_returns.append(episode_return)\n",
                "        episode_losses.append(episode_loss)\n",
                "\n",
                "        if episode % agent.config.print_frequency == 0:\n",
                "            mean_episode_return = np.mean(episode_returns[-100:])\n",
                "            print(\"*\" * 40)\n",
                "            print(f\"steps: {t}\")\n",
                "            print(f\"episode: {episode}\")\n",
                "            print(f\"mean 100 episode return: {mean_episode_return:.2f}\")\n",
                "            print(f\"loss: {episode_loss}\")\n",
                "            print(f\"epsilon: {epsilon:.2f}\")\n",
                "            print(\"*\" * 40)\n",
                "\n",
                "            # wandb.log({\n",
                "            #     \"episode\": episode+1,\n",
                "            #     \"mean return\": mean_episode_return,\n",
                "            #     \"epsilon\": np.round(epsilon, 2)\n",
                "            # })\n",
                "\n",
                "            if best_mean_return < mean_episode_return:\n",
                "                torch.save(agent.policy_network.state_dict(), save_model_name)\n",
                "                print(f\"Best mean reward updated {best_mean_return:.3f} -> {mean_episode_return:.3f}, model saved\")\n",
                "                best_mean_return = mean_episode_return\n",
                "                if mean_episode_return > 10:\n",
                "                    print(f\"Solved!\")\n",
                "                    break\n",
                "                \n",
                "        episode_return = 0\n",
                "        episode_loss = 0\n",
                "    else:\n",
                "        obs = next_obs"
            ]
        },
        {
            "cell_type": "code",
            "execution_count": null,
            "metadata": {},
            "outputs": [],
            "source": [
                "fig, ax = rl_util.init_2d_figure(\"Reward\")\n",
                "rl_util.plot_graph(\n",
                "    ax,\n",
                "    episode_returns,\n",
                "    title=\"reward\",\n",
                "    ylabel=\"reward\",\n",
                "    save_dir_name=save_dir,\n",
                "    is_save=True,\n",
                ")\n",
                "rl_util.show_figure()\n",
                "fig, ax = rl_util.init_2d_figure(\"Loss\")\n",
                "rl_util.plot_graph(\n",
                "    ax, episode_losses, title=\"loss\", ylabel=\"loss\", save_dir_name=save_dir, is_save=True\n",
                ")\n",
                "rl_util.show_figure()"
            ]
        },
        {
            "cell_type": "code",
            "execution_count": null,
            "metadata": {},
            "outputs": [],
            "source": [
                "env = gym.make(env_name, render_mode=\"human\")\n",
                "env = gym.wrappers.AtariPreprocessing(env=env, terminal_on_life_loss=True, grayscale_obs=True,\n",
                "                                            noop_max=0)\n",
                "env = gym.wrappers.FrameStack(env, num_stack=4)\n",
                "\n",
                "test_agent = DQNAgent(\n",
                "    obs_space_shape=env.observation_space.shape,\n",
                "    action_space_dims=env.action_space.n,\n",
                "    is_atari=True,\n",
                "    config=config\n",
                ")\n",
                "test_agent.policy_network.load_state_dict(torch.load(save_model_name))\n",
                "\n",
                "for i_episode in range(1):\n",
                "    state, _ = env.reset()\n",
                "    test_reward = 0\n",
                "    while True:\n",
                "        env.render()\n",
                "        action = test_agent.select_action(state, 0.)\n",
                "        next_state, reward, terminated, truncated, _ = env.step(action)\n",
                "        test_reward += reward\n",
                "        state = next_state\n",
                "        done = terminated or truncated\n",
                "        if done:\n",
                "            break\n",
                "    print(f\"{i_episode} episode Total Reward: {test_reward}\")\n",
                "env.close()"
            ]
        }
    ],
    "metadata": {
        "kernelspec": {
            "display_name": "test",
            "language": "python",
            "name": "python3"
        },
        "language_info": {
            "codemirror_mode": {
                "name": "ipython",
                "version": 3
            },
            "file_extension": ".py",
            "mimetype": "text/x-python",
            "name": "python",
            "nbconvert_exporter": "python",
            "pygments_lexer": "ipython3",
            "version": "3.8.15 (default, Nov 24 2022, 15:19:38) \n[GCC 11.2.0]"
        },
        "orig_nbformat": 4,
        "vscode": {
            "interpreter": {
                "hash": "2079ad370c17dffbaa1cef888f8327d4562759f468d0bda43c9a0b46b2857d81"
            }
        }
    },
    "nbformat": 4,
    "nbformat_minor": 2
}
