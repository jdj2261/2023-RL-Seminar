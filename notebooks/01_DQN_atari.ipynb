{
    "cells": [
        {
            "cell_type": "code",
            "execution_count": 1,
            "metadata": {},
            "outputs": [
                {
                    "name": "stdout",
                    "output_type": "stream",
                    "text": [
                        "\u001b[0;35mGym version:\u001b[0m 0.27.0\n",
                        "\u001b[0;35mPytorch version:\u001b[0m 1.12.0+cu113\n"
                    ]
                }
            ],
            "source": [
                "import gymnasium as gym\n",
                "import torch\n",
                "import matplotlib.pyplot as plt\n",
                "import wandb\n",
                "from collections import deque\n",
                "from src.utils.util import ShellColor as sc\n",
                "\n",
                "print(f\"{sc.COLOR_PURPLE}Gym version:{sc.ENDC} {gym.__version__}\")\n",
                "print(f\"{sc.COLOR_PURPLE}Pytorch version:{sc.ENDC} {torch.__version__}\")\n",
                "\n",
                "from src.agents.dqn_agent import DQNAgent\n",
                "from src.utils import util as rl_util\n",
                "from src.envs.atari2 import *"
            ]
        },
        {
            "cell_type": "code",
            "execution_count": 2,
            "metadata": {},
            "outputs": [
                {
                    "name": "stdout",
                    "output_type": "stream",
                    "text": [
                        "============ Env Info ===========\n",
                        "\u001b[0;36mEnv id:\u001b[0m PongNoFrameskip-v4\n",
                        "\u001b[0;36mObservation space size:\u001b[0m (4, 84, 84)\n",
                        "\u001b[0;36mAction space size:\u001b[0m 6\n",
                        "\u001b[0;36mAction list:\u001b[0m ['NOOP', 'FIRE', 'RIGHT', 'LEFT', 'RIGHTFIRE', 'LEFTFIRE']\n",
                        "=================================\n"
                    ]
                },
                {
                    "name": "stderr",
                    "output_type": "stream",
                    "text": [
                        "A.L.E: Arcade Learning Environment (version 0.8.0+919230b)\n",
                        "[Powered by Stella]\n"
                    ]
                }
            ],
            "source": [
                "env_name = \"PongNoFrameskip-v4\"\n",
                "env = gym.make(env_name)\n",
                "env = gym.wrappers.AtariPreprocessing(\n",
                "    env=env, \n",
                "    terminal_on_life_loss=True, \n",
                "    grayscale_obs=True, \n",
                "    scale_obs=False,\n",
                "    noop_max=0)\n",
                "# env = ImageToPyTorch(env)\n",
                "env = gym.wrappers.FrameStack(env, num_stack=4)\n",
                "rl_util.print_env_info(env=env)"
            ]
        },
        {
            "cell_type": "code",
            "execution_count": 3,
            "metadata": {},
            "outputs": [
                {
                    "data": {
                        "text/plain": [
                            "(4, 84, 84)"
                        ]
                    },
                    "execution_count": 3,
                    "metadata": {},
                    "output_type": "execute_result"
                }
            ],
            "source": [
                "state, info = env.reset()\n",
                "state.shape"
            ]
        },
        {
            "cell_type": "code",
            "execution_count": 4,
            "metadata": {},
            "outputs": [
                {
                    "name": "stderr",
                    "output_type": "stream",
                    "text": [
                        "ERROR:wandb.jupyter:Failed to detect the name of this notebook, you can set it manually with the WANDB_NOTEBOOK_NAME environment variable to enable code saving.\n",
                        "\u001b[34m\u001b[1mwandb\u001b[0m: Currently logged in as: \u001b[33mwlseowhd12\u001b[0m (\u001b[33mcau-railab\u001b[0m). Use \u001b[1m`wandb login --relogin`\u001b[0m to force relogin\n",
                        "/home/djjin/anaconda3/envs/test/lib/python3.8/site-packages/wandb/sdk/lib/ipython.py:46: DeprecationWarning: Importing display from IPython.core.display is deprecated since IPython 7.14, please import from IPython display\n",
                        "  from IPython.core.display import HTML, display  # type: ignore\n"
                    ]
                },
                {
                    "data": {
                        "text/html": [
                            "wandb version 0.13.10 is available!  To upgrade, please run:\n",
                            " $ pip install wandb --upgrade"
                        ],
                        "text/plain": [
                            "<IPython.core.display.HTML object>"
                        ]
                    },
                    "metadata": {},
                    "output_type": "display_data"
                },
                {
                    "name": "stderr",
                    "output_type": "stream",
                    "text": [
                        "/home/djjin/anaconda3/envs/test/lib/python3.8/site-packages/wandb/sdk/lib/ipython.py:46: DeprecationWarning: Importing display from IPython.core.display is deprecated since IPython 7.14, please import from IPython display\n",
                        "  from IPython.core.display import HTML, display  # type: ignore\n"
                    ]
                },
                {
                    "data": {
                        "text/html": [
                            "Tracking run with wandb version 0.13.9"
                        ],
                        "text/plain": [
                            "<IPython.core.display.HTML object>"
                        ]
                    },
                    "metadata": {},
                    "output_type": "display_data"
                },
                {
                    "name": "stderr",
                    "output_type": "stream",
                    "text": [
                        "/home/djjin/anaconda3/envs/test/lib/python3.8/site-packages/wandb/sdk/lib/ipython.py:46: DeprecationWarning: Importing display from IPython.core.display is deprecated since IPython 7.14, please import from IPython display\n",
                        "  from IPython.core.display import HTML, display  # type: ignore\n"
                    ]
                },
                {
                    "data": {
                        "text/html": [
                            "Run data is saved locally in <code>/home/djjin/Mygit/2023-RL-Seminar/notebooks/wandb/run-20230212_200746-ip7270a7</code>"
                        ],
                        "text/plain": [
                            "<IPython.core.display.HTML object>"
                        ]
                    },
                    "metadata": {},
                    "output_type": "display_data"
                },
                {
                    "name": "stderr",
                    "output_type": "stream",
                    "text": [
                        "/home/djjin/anaconda3/envs/test/lib/python3.8/site-packages/wandb/sdk/lib/ipython.py:46: DeprecationWarning: Importing display from IPython.core.display is deprecated since IPython 7.14, please import from IPython display\n",
                        "  from IPython.core.display import HTML, display  # type: ignore\n"
                    ]
                },
                {
                    "data": {
                        "text/html": [
                            "Syncing run <strong><a href=\"https://wandb.ai/cau-railab/DDQN-Atari/runs/ip7270a7\" target=\"_blank\">easy-hill-13</a></strong> to <a href=\"https://wandb.ai/cau-railab/DDQN-Atari\" target=\"_blank\">Weights & Biases</a> (<a href=\"https://wandb.me/run\" target=\"_blank\">docs</a>)<br/>"
                        ],
                        "text/plain": [
                            "<IPython.core.display.HTML object>"
                        ]
                    },
                    "metadata": {},
                    "output_type": "display_data"
                },
                {
                    "name": "stderr",
                    "output_type": "stream",
                    "text": [
                        "/home/djjin/anaconda3/envs/test/lib/python3.8/site-packages/wandb/sdk/lib/ipython.py:46: DeprecationWarning: Importing display from IPython.core.display is deprecated since IPython 7.14, please import from IPython display\n",
                        "  from IPython.core.display import HTML, display  # type: ignore\n"
                    ]
                },
                {
                    "data": {
                        "text/html": [
                            " View project at <a href=\"https://wandb.ai/cau-railab/DDQN-Atari\" target=\"_blank\">https://wandb.ai/cau-railab/DDQN-Atari</a>"
                        ],
                        "text/plain": [
                            "<IPython.core.display.HTML object>"
                        ]
                    },
                    "metadata": {},
                    "output_type": "display_data"
                },
                {
                    "name": "stderr",
                    "output_type": "stream",
                    "text": [
                        "/home/djjin/anaconda3/envs/test/lib/python3.8/site-packages/wandb/sdk/lib/ipython.py:46: DeprecationWarning: Importing display from IPython.core.display is deprecated since IPython 7.14, please import from IPython display\n",
                        "  from IPython.core.display import HTML, display  # type: ignore\n"
                    ]
                },
                {
                    "data": {
                        "text/html": [
                            " View run at <a href=\"https://wandb.ai/cau-railab/DDQN-Atari/runs/ip7270a7\" target=\"_blank\">https://wandb.ai/cau-railab/DDQN-Atari/runs/ip7270a7</a>"
                        ],
                        "text/plain": [
                            "<IPython.core.display.HTML object>"
                        ]
                    },
                    "metadata": {},
                    "output_type": "display_data"
                },
                {
                    "data": {
                        "text/html": [
                            "<button onClick=\"this.nextSibling.style.display='block';this.style.display='none';\">Display W&B run</button><iframe src=\"https://wandb.ai/cau-railab/DDQN-Atari/runs/ip7270a7?jupyter=true\" style=\"border:none;width:100%;height:420px;display:none;\"></iframe>"
                        ],
                        "text/plain": [
                            "<wandb.sdk.wandb_run.Run at 0x7f502c1474f0>"
                        ]
                    },
                    "execution_count": 4,
                    "metadata": {},
                    "output_type": "execute_result"
                }
            ],
            "source": [
                "config = rl_util.create_config()\n",
                "config[\"seed\"]=42\n",
                "wandb.init(project=\"DDQN-Atari\", config=config)"
            ]
        },
        {
            "cell_type": "code",
            "execution_count": 5,
            "metadata": {},
            "outputs": [],
            "source": [
                "# wandb.init(project=\"DQN-cartpole\", config=config)"
            ]
        },
        {
            "cell_type": "code",
            "execution_count": 6,
            "metadata": {},
            "outputs": [
                {
                    "name": "stdout",
                    "output_type": "stream",
                    "text": [
                        "Model Initializing... An input shape is (4, 84, 84)\n",
                        "Model Initializing... An input shape is (4, 84, 84)\n",
                        "Double DQN Agent\n",
                        "========== Config Info ==========\n",
                        "\u001b[0;36menv:\u001b[0m PongNoFrameskip-v4\n",
                        "\u001b[0;36mnum_steps:\u001b[0m 1000000\n",
                        "\u001b[0;36mbatch_size:\u001b[0m 32\n",
                        "\u001b[0;36mgamma:\u001b[0m 0.99\n",
                        "\u001b[0;36mlr:\u001b[0m 0.0001\n",
                        "\u001b[0;36mlearning_starts:\u001b[0m 10000\n",
                        "\u001b[0;36mlearning_frequency:\u001b[0m 1\n",
                        "\u001b[0;36mepsilon_start:\u001b[0m 1\n",
                        "\u001b[0;36mepsilon_end:\u001b[0m 0.01\n",
                        "\u001b[0;36mepsilon_decay:\u001b[0m 100000\n",
                        "\u001b[0;36mseed:\u001b[0m 42\n",
                        "\u001b[0;36mtarget_update_frequency:\u001b[0m 1000\n",
                        "\u001b[0;36mbuffer_type:\u001b[0m uniform\n",
                        "\u001b[0;36mbuffer_size:\u001b[0m 5000\n",
                        "\u001b[0;36mdevice:\u001b[0m cuda:0\n",
                        "\u001b[0;36mmean_reward_bound:\u001b[0m 10\n",
                        "\u001b[0;36mprint_frequency:\u001b[0m 10\n",
                        "=================================\n",
                        "<class 'src.commons.memory.replay_memory.ReplayMemory'>\n"
                    ]
                }
            ],
            "source": [
                "agent = DQNAgent(\n",
                "    obs_space_shape=env.observation_space.shape,\n",
                "    action_space_dims=env.action_space.n,\n",
                "    is_atari=True,\n",
                "    config=config,\n",
                "    use_double_dqn=True\n",
                ")\n",
                "\n",
                "print(agent.config)\n",
                "print(type(agent.memory))"
            ]
        },
        {
            "cell_type": "code",
            "execution_count": 7,
            "metadata": {},
            "outputs": [],
            "source": [
                "save_dir = \"result/DDQN/atari/\"\n",
                "rl_util.create_directory(save_dir)\n",
                "save_model_name = save_dir + env_name + \"_mean_score.pt\""
            ]
        },
        {
            "cell_type": "code",
            "execution_count": 8,
            "metadata": {},
            "outputs": [
                {
                    "name": "stdout",
                    "output_type": "stream",
                    "text": [
                        "********************************************************\n",
                        "steps: 8323\n",
                        "episodes: 10\n",
                        "mean 100 episode reward: -20.3\n",
                        "% time spent exploring: 91\n",
                        "********************************************************\n",
                        "Best mean reward updated -10000.000 -> -20.300, model saved\n",
                        "********************************************************\n",
                        "steps: 17695\n",
                        "episodes: 20\n",
                        "mean 100 episode reward: -20.5\n",
                        "% time spent exploring: 82\n",
                        "********************************************************\n",
                        "********************************************************\n",
                        "steps: 26917\n",
                        "episodes: 30\n",
                        "mean 100 episode reward: -20.4\n",
                        "% time spent exploring: 73\n",
                        "********************************************************\n",
                        "********************************************************\n",
                        "steps: 35899\n",
                        "episodes: 40\n",
                        "mean 100 episode reward: -20.4\n",
                        "% time spent exploring: 64\n",
                        "********************************************************\n",
                        "********************************************************\n",
                        "steps: 44562\n",
                        "episodes: 50\n",
                        "mean 100 episode reward: -20.4\n",
                        "% time spent exploring: 55\n",
                        "********************************************************\n",
                        "********************************************************\n",
                        "steps: 54010\n",
                        "episodes: 60\n",
                        "mean 100 episode reward: -20.3\n",
                        "% time spent exploring: 46\n",
                        "********************************************************\n",
                        "********************************************************\n",
                        "steps: 64108\n",
                        "episodes: 70\n",
                        "mean 100 episode reward: -20.3\n",
                        "% time spent exploring: 36\n",
                        "********************************************************\n",
                        "********************************************************\n",
                        "steps: 76602\n",
                        "episodes: 80\n",
                        "mean 100 episode reward: -20.2\n",
                        "% time spent exploring: 24\n",
                        "********************************************************\n",
                        "Best mean reward updated -20.300 -> -20.200, model saved\n",
                        "********************************************************\n",
                        "steps: 91462\n",
                        "episodes: 90\n",
                        "mean 100 episode reward: -19.9\n",
                        "% time spent exploring: 9\n",
                        "********************************************************\n",
                        "Best mean reward updated -20.200 -> -19.900, model saved\n",
                        "********************************************************\n",
                        "steps: 109986\n",
                        "episodes: 100\n",
                        "mean 100 episode reward: -19.6\n",
                        "% time spent exploring: 1\n",
                        "********************************************************\n",
                        "Best mean reward updated -19.900 -> -19.600, model saved\n",
                        "********************************************************\n",
                        "steps: 129753\n",
                        "episodes: 110\n",
                        "mean 100 episode reward: -19.2\n",
                        "% time spent exploring: 1\n",
                        "********************************************************\n",
                        "Best mean reward updated -19.600 -> -19.200, model saved\n",
                        "********************************************************\n",
                        "steps: 153330\n",
                        "episodes: 120\n",
                        "mean 100 episode reward: -18.3\n",
                        "% time spent exploring: 1\n",
                        "********************************************************\n",
                        "Best mean reward updated -19.200 -> -18.300, model saved\n",
                        "********************************************************\n",
                        "steps: 177211\n",
                        "episodes: 130\n",
                        "mean 100 episode reward: -17.2\n",
                        "% time spent exploring: 1\n",
                        "********************************************************\n",
                        "Best mean reward updated -18.300 -> -17.200, model saved\n",
                        "********************************************************\n",
                        "steps: 205817\n",
                        "episodes: 140\n",
                        "mean 100 episode reward: -15.9\n",
                        "% time spent exploring: 1\n",
                        "********************************************************\n",
                        "Best mean reward updated -17.200 -> -15.900, model saved\n",
                        "********************************************************\n",
                        "steps: 234540\n",
                        "episodes: 150\n",
                        "mean 100 episode reward: -13.2\n",
                        "% time spent exploring: 1\n",
                        "********************************************************\n",
                        "Best mean reward updated -15.900 -> -13.200, model saved\n",
                        "********************************************************\n",
                        "steps: 260891\n",
                        "episodes: 160\n",
                        "mean 100 episode reward: -10.0\n",
                        "% time spent exploring: 1\n",
                        "********************************************************\n",
                        "Best mean reward updated -13.200 -> -10.000, model saved\n",
                        "********************************************************\n",
                        "steps: 289975\n",
                        "episodes: 170\n",
                        "mean 100 episode reward: -7.1\n",
                        "% time spent exploring: 1\n",
                        "********************************************************\n",
                        "Best mean reward updated -10.000 -> -7.100, model saved\n"
                    ]
                }
            ],
            "source": [
                "state, _ = env.reset()\n",
                "episode_rewards = [0.0]\n",
                "best_mean_reward = -10000\n",
                "for t in range(agent.config.num_steps):\n",
                "    fraction = min(1.0, float(t) / agent.config.epsilon_decay)\n",
                "    eps_threshold = agent.config.epsilon_start + fraction * \\\n",
                "        (agent.config.epsilon_end - agent.config.epsilon_start)\n",
                "    # sample = random.random()\n",
                "    action = agent.select_action(state, eps_threshold)\n",
                "    next_state, reward, done, _, info = env.step(action)\n",
                "    agent.store_transition(state, action, reward, next_state, float(done))\n",
                "    state = next_state\n",
                "\n",
                "    episode_rewards[-1] += reward\n",
                "    if done:\n",
                "        state, _ = env.reset()\n",
                "        episode_rewards.append(0.0)\n",
                "\n",
                "    if t > agent.config.learning_starts and t % agent.config.learning_frequency == 0:\n",
                "        agent.update()\n",
                "\n",
                "    if t > agent.config.learning_starts and t % agent.config.target_update_frequency == 0:\n",
                "        agent.update_target_network()\n",
                "\n",
                "    num_episodes = len(episode_rewards)\n",
                "\n",
                "    if done and agent.config.print_frequency is not None and len(episode_rewards) % agent.config.print_frequency == 0:\n",
                "        mean_100ep_reward = round(np.mean(episode_rewards[-101:-1]), 1)\n",
                "        print(\"********************************************************\")\n",
                "        print(\"steps: {}\".format(t))\n",
                "        print(\"episodes: {}\".format(num_episodes))\n",
                "        print(\"mean 100 episode reward: {}\".format(mean_100ep_reward))\n",
                "        print(\"% epsilon: {}\".format(eps_threshold))\n",
                "        print(\"********************************************************\")\n",
                "        wandb.log({\n",
                "            \"episode\": num_episodes,\n",
                "            \"mean reward\": mean_100ep_reward,\n",
                "            \"epsilon\": eps_threshold\n",
                "        })\n",
                "        if best_mean_reward < mean_100ep_reward:\n",
                "            torch.save(agent.policy_network.state_dict(), save_model_name)\n",
                "            print(f\"Best mean reward updated {best_mean_reward:.3f} -> {mean_100ep_reward:.3f}, model saved\")\n",
                "            best_mean_reward = mean_100ep_reward\n",
                "            if mean_100ep_reward > agent.config.mean_reward_bound:\n",
                "                print(f\"Solved!\")\n",
                "                break\n",
                "            else:\n",
                "                if num_episodes > 1000:\n",
                "                    break"
            ]
        },
        {
            "cell_type": "code",
            "execution_count": null,
            "metadata": {},
            "outputs": [
                {
                    "name": "stdout",
                    "output_type": "stream",
                    "text": [
                        "Save result/DDQN/atari/reward_2023_02_12_05_07_31.png\n"
                    ]
                },
                {
                    "data": {
                        "image/png": "[encoded data removed]",
                        "text/plain": [
                            "<Figure size 1200x600 with 1 Axes>"
                        ]
                    },
                    "metadata": {},
                    "output_type": "display_data"
                }
            ],
            "source": [
                "fig, ax = rl_util.init_2d_figure(\"Reward\")\n",
                "rl_util.plot_graph(\n",
                "    ax,\n",
                "    episode_rewards,\n",
                "    title=\"reward\",\n",
                "    ylabel=\"reward\",\n",
                "    save_dir_name=save_dir,\n",
                "    is_save=True,\n",
                ")\n",
                "rl_util.show_figure()\n",
                "# fig, ax = rl_util.init_2d_figure(\"Loss\")\n",
                "# rl_util.plot_graph(\n",
                "#     ax, losses, title=\"loss\", ylabel=\"loss\", save_dir_name=save_dir, is_save=True\n",
                "# )\n",
                "# rl_util.show_figure()"
            ]
        },
        {
            "cell_type": "code",
            "execution_count": null,
            "metadata": {},
            "outputs": [
                {
                    "data": {
                        "text/plain": [
                            "'result/DDQN/atari/PongNoFrameskip-v4_mean_score.pt'"
                        ]
                    },
                    "execution_count": 12,
                    "metadata": {},
                    "output_type": "execute_result"
                }
            ],
            "source": [
                "save_model_name"
            ]
        },
        {
            "cell_type": "code",
            "execution_count": null,
            "metadata": {},
            "outputs": [
                {
                    "name": "stdout",
                    "output_type": "stream",
                    "text": [
                        "Model Initializing... An input shape is (4, 84, 84)\n",
                        "Model Initializing... An input shape is (4, 84, 84)\n",
                        "Double DQN Agent\n"
                    ]
                },
                {
                    "name": "stderr",
                    "output_type": "stream",
                    "text": [
                        "/home/djjin/anaconda3/envs/test/lib/python3.8/site-packages/gymnasium/utils/passive_env_checker.py:357: UserWarning: \u001b[33mWARN: No render fps was declared in the environment (env.metadata['render_fps'] is None or not defined), rendering may occur at inconsistent fps.\u001b[0m\n",
                        "  logger.warn(\n"
                    ]
                },
                {
                    "ename": "",
                    "evalue": "",
                    "output_type": "error",
                    "traceback": [
                        "\u001b[1;31mCanceled future for execute_request message before replies were done"
                    ]
                },
                {
                    "ename": "",
                    "evalue": "",
                    "output_type": "error",
                    "traceback": [
                        "\u001b[1;31mThe Kernel crashed while executing code in the the current cell or a previous cell. Please review the code in the cell(s) to identify a possible cause of the failure. Click <a href='https://aka.ms/vscodeJupyterKernelCrash'>here</a> for more info. View Jupyter <a href='command:jupyter.viewOutput'>log</a> for further details."
                    ]
                }
            ],
            "source": [
                "env = gym.make(env_name, render_mode=\"human\")\n",
                "env = gym.wrappers.AtariPreprocessing(env=env, terminal_on_life_loss=True, grayscale_obs=True,\n",
                "                                            noop_max=0)\n",
                "# env = ImageToPyTorch(env)\n",
                "env = gym.wrappers.FrameStack(env, num_stack=4)\n",
                "\n",
                "test_agent = DQNAgent(\n",
                "    obs_space_shape=env.observation_space.shape,\n",
                "    action_space_dims=env.action_space.n,\n",
                "    is_atari=True,\n",
                "    config=config\n",
                ")\n",
                "\n",
                "# file_name = save_dir + \"CartPole-v1_mean_score.pt\"\n",
                "test_agent.policy_network.load_state_dict(torch.load(save_model_name))\n",
                "\n",
                "for i_episode in range(1):\n",
                "    state, _ = env.reset()\n",
                "    test_reward = 0\n",
                "    while True:\n",
                "        env.render()\n",
                "        action = test_agent.select_action(state, 0.)\n",
                "        next_state, reward, terminated, truncated, _ = env.step(action)\n",
                "        test_reward += reward\n",
                "        state = next_state\n",
                "        done = terminated or truncated\n",
                "        if done:\n",
                "            break\n",
                "    print(f\"{i_episode} episode Total Reward: {test_reward}\")\n",
                "env.close()"
            ]
        },
        {
            "cell_type": "code",
            "execution_count": null,
            "metadata": {},
            "outputs": [],
            "source": []
        }
    ],
    "metadata": {
        "kernelspec": {
            "display_name": "test",
            "language": "python",
            "name": "python3"
        },
        "language_info": {
            "codemirror_mode": {
                "name": "ipython",
                "version": 3
            },
            "file_extension": ".py",
            "mimetype": "text/x-python",
            "name": "python",
            "nbconvert_exporter": "python",
            "pygments_lexer": "ipython3",
            "version": "3.8.15"
        },
        "orig_nbformat": 4,
        "vscode": {
            "interpreter": {
                "hash": "2079ad370c17dffbaa1cef888f8327d4562759f468d0bda43c9a0b46b2857d81"
            }
        }
    },
    "nbformat": 4,
    "nbformat_minor": 2
}
