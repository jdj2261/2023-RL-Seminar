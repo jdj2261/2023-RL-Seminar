{
 "cells": [
  {
   "cell_type": "code",
   "execution_count": 1,
   "metadata": {},
   "outputs": [
    {
     "name": "stdout",
     "output_type": "stream",
     "text": [
      "\u001b[0;35mGym version:\u001b[0m 0.27.0\n",
      "\u001b[0;35mPytorch version:\u001b[0m 1.12.0+cu113\n"
     ]
    }
   ],
   "source": [
    "import gymnasium as gym\n",
    "import torch\n",
    "import matplotlib.pyplot as plt\n",
    "import time\n",
    "import numpy as np\n",
    "from src.utils.util import ShellColor as sc\n",
    "\n",
    "print(f\"{sc.COLOR_PURPLE}Gym version:{sc.ENDC} {gym.__version__}\")\n",
    "print(f\"{sc.COLOR_PURPLE}Pytorch version:{sc.ENDC} {torch.__version__}\")\n",
    "\n",
    "from src.agents import DDQNPerAgent\n",
    "from src.utils import util as rl_util"
   ]
  },
  {
   "cell_type": "code",
   "execution_count": 2,
   "metadata": {},
   "outputs": [
    {
     "name": "stderr",
     "output_type": "stream",
     "text": [
      "A.L.E: Arcade Learning Environment (version 0.8.0+919230b)\n",
      "[Powered by Stella]\n"
     ]
    },
    {
     "name": "stdout",
     "output_type": "stream",
     "text": [
      "============ Env Info ===========\n",
      "\u001b[0;36mEnv id:\u001b[0m PongNoFrameskip-v4\n",
      "\u001b[0;36mObservation space size:\u001b[0m (4, 84, 84)\n",
      "\u001b[0;36mAction space size:\u001b[0m 6\n",
      "\u001b[0;36mAction list:\u001b[0m ['NOOP', 'FIRE', 'RIGHT', 'LEFT', 'RIGHTFIRE', 'LEFTFIRE']\n",
      "=================================\n"
     ]
    }
   ],
   "source": [
    "env_name = \"PongNoFrameskip-v4\"\n",
    "env = gym.make(env_name)\n",
    "env = gym.wrappers.AtariPreprocessing(\n",
    "    env=env, \n",
    "    terminal_on_life_loss=True, \n",
    "    grayscale_obs=True, \n",
    "    scale_obs=False,\n",
    "    noop_max=30)\n",
    "env = gym.wrappers.FrameStack(env, num_stack=4)\n",
    "rl_util.print_env_info(env=env)\n"
   ]
  },
  {
   "cell_type": "code",
   "execution_count": 3,
   "metadata": {},
   "outputs": [
    {
     "name": "stdout",
     "output_type": "stream",
     "text": [
      "(4, 84, 84)\n"
     ]
    },
    {
     "data": {
      "image/png": "[encoded data removed]",
      "text/plain": [
       "<Figure size 1600x900 with 8 Axes>"
      ]
     },
     "metadata": {},
     "output_type": "display_data"
    }
   ],
   "source": [
    "stacked_obs, info = env.reset()\n",
    "print(stacked_obs.shape)\n",
    "n_cols = 4\n",
    "n_rows = 2\n",
    "fig = plt.figure(figsize=(16, 9))\n",
    "for row in range(n_rows):\n",
    "    for col in range(n_cols):\n",
    "        ax = fig.add_subplot(n_rows, n_cols, row * n_cols + col + 1)\n",
    "        ax.imshow(stacked_obs[col], cmap=\"gray\")\n",
    "        stacked_obs, _, _, _,_ = env.step(env.action_space.sample())\n",
    "plt.show()"
   ]
  },
  {
   "cell_type": "code",
   "execution_count": 4,
   "metadata": {},
   "outputs": [],
   "source": [
    "config = rl_util.create_config()\n",
    "config[\"print_frequency\"] = 20\n",
    "config[\"mean_reward_bound\"] = 10"
   ]
  },
  {
   "cell_type": "code",
   "execution_count": 5,
   "metadata": {},
   "outputs": [
    {
     "name": "stdout",
     "output_type": "stream",
     "text": [
      "Model Initializing... An input shape is (4, 84, 84)\n",
      "Model Initializing... An input shape is (4, 84, 84)\n",
      "========== Config Info ==========\n",
      "\u001b[0;36mn_episodes:\u001b[0m 2000\n",
      "\u001b[0;36mmax_steps:\u001b[0m 2000000\n",
      "\u001b[0;36mbatch_size:\u001b[0m 32\n",
      "\u001b[0;36mgamma:\u001b[0m 0.99\n",
      "\u001b[0;36mlr:\u001b[0m 0.0001\n",
      "\u001b[0;36mstart_training_step:\u001b[0m 10000\n",
      "\u001b[0;36mlearning_frequency:\u001b[0m 1\n",
      "\u001b[0;36mepsilon_start:\u001b[0m 0.95\n",
      "\u001b[0;36mepsilon_end:\u001b[0m 0.01\n",
      "\u001b[0;36mepsilon_decay:\u001b[0m 300000.0\n",
      "\u001b[0;36mseed:\u001b[0m 0\n",
      "\u001b[0;36mtarget_update_frequency:\u001b[0m 1000\n",
      "\u001b[0;36mbuffer_size:\u001b[0m 50000\n",
      "\u001b[0;36mdevice:\u001b[0m cuda:0\n",
      "\u001b[0;36mmean_reward_bound:\u001b[0m 10\n",
      "\u001b[0;36mprint_frequency:\u001b[0m 20\n",
      "=================================\n",
      "<class 'src.commons.memory.prioritized_memory.PrioritizedMemory'>\n"
     ]
    }
   ],
   "source": [
    "agent = DDQNPerAgent(\n",
    "    obs_space_shape=env.observation_space.shape,\n",
    "    action_space_dims=env.action_space.n,\n",
    "    is_atari=True,\n",
    "    config=config,\n",
    ")\n",
    "\n",
    "print(agent.config)\n",
    "print(type(agent.memory))"
   ]
  },
  {
   "cell_type": "code",
   "execution_count": 6,
   "metadata": {},
   "outputs": [],
   "source": [
    "save_dir = \"result/DDQN/per/atari/\"\n",
    "rl_util.create_directory(save_dir)\n",
    "current_time = rl_util.get_current_time_string()\n",
    "save_model_name = save_dir + env_name + \"_\" + current_time+\".pt\""
   ]
  },
  {
   "cell_type": "code",
   "execution_count": 7,
   "metadata": {},
   "outputs": [
    {
     "name": "stdout",
     "output_type": "stream",
     "text": [
      "Best mean return updated -10000.000 -> -18.000, model saved\n"
     ]
    },
    {
     "ename": "KeyboardInterrupt",
     "evalue": "",
     "output_type": "error",
     "traceback": [
      "\u001b[0;31m---------------------------------------------------------------------------\u001b[0m",
      "\u001b[0;31mKeyboardInterrupt\u001b[0m                         Traceback (most recent call last)",
      "Cell \u001b[0;32mIn[7], line 13\u001b[0m\n\u001b[1;32m     11\u001b[0m \u001b[39mfor\u001b[39;00m t \u001b[39min\u001b[39;00m \u001b[39mrange\u001b[39m(agent\u001b[39m.\u001b[39mconfig\u001b[39m.\u001b[39mmax_steps):\n\u001b[1;32m     12\u001b[0m     epsilon \u001b[39m=\u001b[39m agent\u001b[39m.\u001b[39mdecay_epsilon(t)\n\u001b[0;32m---> 13\u001b[0m     action \u001b[39m=\u001b[39m agent\u001b[39m.\u001b[39;49mselect_action(obs, epsilon)\n\u001b[1;32m     14\u001b[0m     next_obs, reward, done, _, _ \u001b[39m=\u001b[39m env\u001b[39m.\u001b[39mstep(action)\n\u001b[1;32m     15\u001b[0m     agent\u001b[39m.\u001b[39mstore_transition(obs, action, reward, next_obs, done)\n",
      "File \u001b[0;32m~/Mygit/2023-RL-Seminar/src/agents/ddqn_per_agent.py:46\u001b[0m, in \u001b[0;36mDDQNPerAgent.select_action\u001b[0;34m(self, state, eps)\u001b[0m\n\u001b[1;32m     44\u001b[0m     \u001b[39mreturn\u001b[39;00m random\u001b[39m.\u001b[39mchoice(np\u001b[39m.\u001b[39marange(\u001b[39mself\u001b[39m\u001b[39m.\u001b[39maction_space_dims))\n\u001b[1;32m     45\u001b[0m \u001b[39melse\u001b[39;00m:\n\u001b[0;32m---> 46\u001b[0m     q_values \u001b[39m=\u001b[39m \u001b[39mself\u001b[39;49m\u001b[39m.\u001b[39;49mpolicy_network(state)\u001b[39m.\u001b[39mdetach()\n\u001b[1;32m     47\u001b[0m     _, action \u001b[39m=\u001b[39m q_values\u001b[39m.\u001b[39mmax(\u001b[39m1\u001b[39m)\n\u001b[1;32m     48\u001b[0m     \u001b[39mreturn\u001b[39;00m action\u001b[39m.\u001b[39mitem()\n",
      "File \u001b[0;32m~/anaconda3/envs/conda_HRNet/lib/python3.8/site-packages/torch/nn/modules/module.py:1130\u001b[0m, in \u001b[0;36mModule._call_impl\u001b[0;34m(self, *input, **kwargs)\u001b[0m\n\u001b[1;32m   1126\u001b[0m \u001b[39m# If we don't have any hooks, we want to skip the rest of the logic in\u001b[39;00m\n\u001b[1;32m   1127\u001b[0m \u001b[39m# this function, and just call forward.\u001b[39;00m\n\u001b[1;32m   1128\u001b[0m \u001b[39mif\u001b[39;00m \u001b[39mnot\u001b[39;00m (\u001b[39mself\u001b[39m\u001b[39m.\u001b[39m_backward_hooks \u001b[39mor\u001b[39;00m \u001b[39mself\u001b[39m\u001b[39m.\u001b[39m_forward_hooks \u001b[39mor\u001b[39;00m \u001b[39mself\u001b[39m\u001b[39m.\u001b[39m_forward_pre_hooks \u001b[39mor\u001b[39;00m _global_backward_hooks\n\u001b[1;32m   1129\u001b[0m         \u001b[39mor\u001b[39;00m _global_forward_hooks \u001b[39mor\u001b[39;00m _global_forward_pre_hooks):\n\u001b[0;32m-> 1130\u001b[0m     \u001b[39mreturn\u001b[39;00m forward_call(\u001b[39m*\u001b[39;49m\u001b[39minput\u001b[39;49m, \u001b[39m*\u001b[39;49m\u001b[39m*\u001b[39;49mkwargs)\n\u001b[1;32m   1131\u001b[0m \u001b[39m# Do not call functions when jit is used\u001b[39;00m\n\u001b[1;32m   1132\u001b[0m full_backward_hooks, non_full_backward_hooks \u001b[39m=\u001b[39m [], []\n",
      "File \u001b[0;32m~/Mygit/2023-RL-Seminar/src/commons/model/model.py:39\u001b[0m, in \u001b[0;36mCNNModel.forward\u001b[0;34m(self, x)\u001b[0m\n\u001b[1;32m     37\u001b[0m x \u001b[39m=\u001b[39m x \u001b[39m/\u001b[39m \u001b[39m255.0\u001b[39m\n\u001b[1;32m     38\u001b[0m x \u001b[39m=\u001b[39m F\u001b[39m.\u001b[39mrelu(\u001b[39mself\u001b[39m\u001b[39m.\u001b[39mconv_layer_1(x))\n\u001b[0;32m---> 39\u001b[0m x \u001b[39m=\u001b[39m F\u001b[39m.\u001b[39mrelu(\u001b[39mself\u001b[39;49m\u001b[39m.\u001b[39;49mconv_layer_2(x))\n\u001b[1;32m     40\u001b[0m x \u001b[39m=\u001b[39m F\u001b[39m.\u001b[39mrelu(\u001b[39mself\u001b[39m\u001b[39m.\u001b[39mconv_layer_3(x))\n\u001b[1;32m     41\u001b[0m x \u001b[39m=\u001b[39m F\u001b[39m.\u001b[39mrelu(\u001b[39mself\u001b[39m\u001b[39m.\u001b[39mdense_layer(x\u001b[39m.\u001b[39mview(x\u001b[39m.\u001b[39msize(\u001b[39m0\u001b[39m), \u001b[39m-\u001b[39m\u001b[39m1\u001b[39m)))\n",
      "File \u001b[0;32m~/anaconda3/envs/conda_HRNet/lib/python3.8/site-packages/torch/nn/modules/module.py:1130\u001b[0m, in \u001b[0;36mModule._call_impl\u001b[0;34m(self, *input, **kwargs)\u001b[0m\n\u001b[1;32m   1126\u001b[0m \u001b[39m# If we don't have any hooks, we want to skip the rest of the logic in\u001b[39;00m\n\u001b[1;32m   1127\u001b[0m \u001b[39m# this function, and just call forward.\u001b[39;00m\n\u001b[1;32m   1128\u001b[0m \u001b[39mif\u001b[39;00m \u001b[39mnot\u001b[39;00m (\u001b[39mself\u001b[39m\u001b[39m.\u001b[39m_backward_hooks \u001b[39mor\u001b[39;00m \u001b[39mself\u001b[39m\u001b[39m.\u001b[39m_forward_hooks \u001b[39mor\u001b[39;00m \u001b[39mself\u001b[39m\u001b[39m.\u001b[39m_forward_pre_hooks \u001b[39mor\u001b[39;00m _global_backward_hooks\n\u001b[1;32m   1129\u001b[0m         \u001b[39mor\u001b[39;00m _global_forward_hooks \u001b[39mor\u001b[39;00m _global_forward_pre_hooks):\n\u001b[0;32m-> 1130\u001b[0m     \u001b[39mreturn\u001b[39;00m forward_call(\u001b[39m*\u001b[39;49m\u001b[39minput\u001b[39;49m, \u001b[39m*\u001b[39;49m\u001b[39m*\u001b[39;49mkwargs)\n\u001b[1;32m   1131\u001b[0m \u001b[39m# Do not call functions when jit is used\u001b[39;00m\n\u001b[1;32m   1132\u001b[0m full_backward_hooks, non_full_backward_hooks \u001b[39m=\u001b[39m [], []\n",
      "File \u001b[0;32m~/anaconda3/envs/conda_HRNet/lib/python3.8/site-packages/torch/nn/modules/conv.py:457\u001b[0m, in \u001b[0;36mConv2d.forward\u001b[0;34m(self, input)\u001b[0m\n\u001b[1;32m    456\u001b[0m \u001b[39mdef\u001b[39;00m \u001b[39mforward\u001b[39m(\u001b[39mself\u001b[39m, \u001b[39minput\u001b[39m: Tensor) \u001b[39m-\u001b[39m\u001b[39m>\u001b[39m Tensor:\n\u001b[0;32m--> 457\u001b[0m     \u001b[39mreturn\u001b[39;00m \u001b[39mself\u001b[39;49m\u001b[39m.\u001b[39;49m_conv_forward(\u001b[39minput\u001b[39;49m, \u001b[39mself\u001b[39;49m\u001b[39m.\u001b[39;49mweight, \u001b[39mself\u001b[39;49m\u001b[39m.\u001b[39;49mbias)\n",
      "File \u001b[0;32m~/anaconda3/envs/conda_HRNet/lib/python3.8/site-packages/torch/nn/modules/conv.py:453\u001b[0m, in \u001b[0;36mConv2d._conv_forward\u001b[0;34m(self, input, weight, bias)\u001b[0m\n\u001b[1;32m    449\u001b[0m \u001b[39mif\u001b[39;00m \u001b[39mself\u001b[39m\u001b[39m.\u001b[39mpadding_mode \u001b[39m!=\u001b[39m \u001b[39m'\u001b[39m\u001b[39mzeros\u001b[39m\u001b[39m'\u001b[39m:\n\u001b[1;32m    450\u001b[0m     \u001b[39mreturn\u001b[39;00m F\u001b[39m.\u001b[39mconv2d(F\u001b[39m.\u001b[39mpad(\u001b[39minput\u001b[39m, \u001b[39mself\u001b[39m\u001b[39m.\u001b[39m_reversed_padding_repeated_twice, mode\u001b[39m=\u001b[39m\u001b[39mself\u001b[39m\u001b[39m.\u001b[39mpadding_mode),\n\u001b[1;32m    451\u001b[0m                     weight, bias, \u001b[39mself\u001b[39m\u001b[39m.\u001b[39mstride,\n\u001b[1;32m    452\u001b[0m                     _pair(\u001b[39m0\u001b[39m), \u001b[39mself\u001b[39m\u001b[39m.\u001b[39mdilation, \u001b[39mself\u001b[39m\u001b[39m.\u001b[39mgroups)\n\u001b[0;32m--> 453\u001b[0m \u001b[39mreturn\u001b[39;00m F\u001b[39m.\u001b[39;49mconv2d(\u001b[39minput\u001b[39;49m, weight, bias, \u001b[39mself\u001b[39;49m\u001b[39m.\u001b[39;49mstride,\n\u001b[1;32m    454\u001b[0m                 \u001b[39mself\u001b[39;49m\u001b[39m.\u001b[39;49mpadding, \u001b[39mself\u001b[39;49m\u001b[39m.\u001b[39;49mdilation, \u001b[39mself\u001b[39;49m\u001b[39m.\u001b[39;49mgroups)\n",
      "\u001b[0;31mKeyboardInterrupt\u001b[0m: "
     ]
    }
   ],
   "source": [
    "obs, _ =  env.reset()\n",
    "episode_returns = []\n",
    "episode_return = 0\n",
    "episode_losses = []\n",
    "episode_loss = 0\n",
    "episode = 0\n",
    "best_mean_return = -10000\n",
    "is_start_train = True\n",
    "\n",
    "start_time = time.time()\n",
    "for t in range(agent.config.max_steps):\n",
    "    epsilon = agent.decay_epsilon(t)\n",
    "    action = agent.select_action(obs, epsilon)\n",
    "    next_obs, reward, done, _, _ = env.step(action)\n",
    "    agent.store_transition(obs, action, reward, next_obs, done)\n",
    "    episode_return += reward\n",
    "    \n",
    "    if t > agent.config.start_training_step:\n",
    "        if is_start_train:\n",
    "            print(f\"Start Training at timestep {t}...\")\n",
    "            is_start_train = False\n",
    "            \n",
    "        episode_loss += agent.update()\n",
    "        if t % agent.config.target_update_frequency == 0:\n",
    "            agent.update_target_network()\n",
    "\n",
    "    if done:\n",
    "        obs, _ = env.reset()\n",
    "        episode += 1\n",
    "        episode_returns.append(episode_return)\n",
    "        episode_losses.append(episode_loss)\n",
    "        mean_episode_return = np.mean(episode_returns[-agent.config.print_frequency:])\n",
    "        mean_episode_loss = np.mean(episode_losses[-agent.config.print_frequency:])\n",
    "\n",
    "        if episode % agent.config.print_frequency == 0:\n",
    "            print(\n",
    "                f\"step: {t} | episode: {episode} | cur_return: {episode_return:.4f} | mean_return: {mean_episode_return:.4f} | best_mean_return: {best_mean_return:.4f} | loss: {episode_loss:.4f} | epsilon: {epsilon:.4f}\"\n",
    "            )\n",
    "\n",
    "        if best_mean_return < mean_episode_return:\n",
    "            torch.save(agent.policy_network.state_dict(), save_model_name)\n",
    "            print(f\"Best mean return updated {best_mean_return:.3f} -> {mean_episode_return:.3f}, model saved\")\n",
    "            best_mean_return = mean_episode_return\n",
    "            if mean_episode_return > 10:\n",
    "                print(f\"Solved!\")\n",
    "                break \n",
    "        episode_return = 0\n",
    "        episode_loss = 0\n",
    "    else:\n",
    "        obs = next_obs\n",
    "\n",
    "end_time = time.time()\n",
    "print(f\"WorkingTime[{DDQNPerAgent.__name__}]: {end_time-start_time:.4f} sec\\n\")"
   ]
  },
  {
   "cell_type": "code",
   "execution_count": null,
   "metadata": {},
   "outputs": [],
   "source": [
    "fig, ax = rl_util.init_2d_figure(\"Reward\")\n",
    "rl_util.plot_graph(\n",
    "    ax,\n",
    "    episode_returns,\n",
    "    title=\"reward\",\n",
    "    ylabel=\"reward\",\n",
    "    save_dir_name=save_dir,\n",
    "    is_save=True,\n",
    ")\n",
    "rl_util.show_figure()\n",
    "fig, ax = rl_util.init_2d_figure(\"Loss\")\n",
    "rl_util.plot_graph(\n",
    "    ax, episode_losses, title=\"loss\", ylabel=\"loss\", save_dir_name=save_dir, is_save=True\n",
    ")\n",
    "rl_util.show_figure()"
   ]
  },
  {
   "cell_type": "code",
   "execution_count": null,
   "metadata": {},
   "outputs": [],
   "source": [
    "env = gym.make(env_name, render_mode=\"human\")\n",
    "env = gym.wrappers.AtariPreprocessing(env=env, terminal_on_life_loss=True, grayscale_obs=True,\n",
    "                                            noop_max=0)\n",
    "env = gym.wrappers.FrameStack(env, num_stack=4)\n",
    "\n",
    "test_agent = DDQNPerAgent(\n",
    "    obs_space_shape=env.observation_space.shape,\n",
    "    action_space_dims=env.action_space.n,\n",
    "    is_atari=True,\n",
    "    config=config\n",
    ")\n",
    "test_agent.policy_network.load_state_dict(torch.load(save_model_name))\n",
    "\n",
    "for i_episode in range(1):\n",
    "    state, _ = env.reset()\n",
    "    test_reward = 0\n",
    "    while True:\n",
    "        env.render()\n",
    "        action = test_agent.select_action(state, 0.)\n",
    "        next_state, reward, terminated, truncated, _ = env.step(action)\n",
    "        test_reward += reward\n",
    "        state = next_state\n",
    "        done = terminated or truncated\n",
    "        if done:\n",
    "            break\n",
    "    print(f\"{i_episode} episode Total Reward: {test_reward}\")\n",
    "env.close()"
   ]
  }
 ],
 "metadata": {
  "kernelspec": {
   "display_name": "test",
   "language": "python",
   "name": "python3"
  },
  "language_info": {
   "codemirror_mode": {
    "name": "ipython",
    "version": 3
   },
   "file_extension": ".py",
   "mimetype": "text/x-python",
   "name": "python",
   "nbconvert_exporter": "python",
   "pygments_lexer": "ipython3",
   "version": "3.8.15"
  },
  "orig_nbformat": 4,
  "vscode": {
   "interpreter": {
    "hash": "2079ad370c17dffbaa1cef888f8327d4562759f468d0bda43c9a0b46b2857d81"
   }
  }
 },
 "nbformat": 4,
 "nbformat_minor": 2
}
