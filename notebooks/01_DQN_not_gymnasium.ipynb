{
    "cells": [
        {
            "cell_type": "code",
            "execution_count": 1,
            "metadata": {},
            "outputs": [
                {
                    "name": "stdout",
                    "output_type": "stream",
                    "text": [
                        "\u001b[0;35mGym version:\u001b[0m 0.18.0\n",
                        "\u001b[0;35mPytorch version:\u001b[0m 1.12.0+cu113\n"
                    ]
                }
            ],
            "source": [
                "# %%\n",
                "import gym\n",
                "import wandb\n",
                "import torch\n",
                "import numpy as np\n",
                "import matplotlib.pyplot as plt\n",
                "from tqdm import tqdm\n",
                "from collections import deque\n",
                "from src.utils.util import ShellColor as sc\n",
                "\n",
                "print(f\"{sc.COLOR_PURPLE}Gym version:{sc.ENDC} {gym.__version__}\")\n",
                "print(f\"{sc.COLOR_PURPLE}Pytorch version:{sc.ENDC} {torch.__version__}\")\n",
                "\n",
                "from src.agents.dqn_agent import DQNAgent\n",
                "from src.utils import util as rl_util\n",
                "from src.envs.atari import make_env"
            ]
        },
        {
            "cell_type": "code",
            "execution_count": 2,
            "metadata": {},
            "outputs": [
                {
                    "name": "stdout",
                    "output_type": "stream",
                    "text": [
                        "============ Env Info ===========\n",
                        "\u001b[0;36mEnv id:\u001b[0m PongNoFrameskip-v4\n",
                        "\u001b[0;36mObservation space size:\u001b[0m (4, 84, 84)\n",
                        "\u001b[0;36mAction space size:\u001b[0m 6\n",
                        "\u001b[0;36mAction list:\u001b[0m ['NOOP', 'FIRE', 'RIGHT', 'LEFT', 'RIGHTFIRE', 'LEFTFIRE']\n",
                        "=================================\n"
                    ]
                }
            ],
            "source": [
                "env_name = \"PongNoFrameskip-v4\"\n",
                "env = make_env(env_name)\n",
                "rl_util.print_env_info(env=env)"
            ]
        },
        {
            "cell_type": "code",
            "execution_count": 3,
            "metadata": {},
            "outputs": [],
            "source": [
                "config = rl_util.create_config()\n",
                "config[\"batch_size\"] = 64\n",
                "config[\"buffer_size\"] = 20000\n",
                "config[\"gamma\"] = 0.99\n",
                "config[\"target_update_frequency\"] = 1000\n",
                "config[\"lr\"] = 1e-4\n",
                "config[\"replay_start_size\"] = 20000\n",
                "config[\"mean_reward_bound\"] = 10"
            ]
        },
        {
            "cell_type": "code",
            "execution_count": 4,
            "metadata": {},
            "outputs": [
                {
                    "name": "stderr",
                    "output_type": "stream",
                    "text": [
                        "ERROR:wandb.jupyter:Failed to detect the name of this notebook, you can set it manually with the WANDB_NOTEBOOK_NAME environment variable to enable code saving.\n",
                        "\u001b[34m\u001b[1mwandb\u001b[0m: Currently logged in as: \u001b[33mwlseowhd12\u001b[0m (\u001b[33mcau-railab\u001b[0m). Use \u001b[1m`wandb login --relogin`\u001b[0m to force relogin\n",
                        "/home/djjin/anaconda3/envs/test/lib/python3.8/site-packages/wandb/sdk/lib/ipython.py:46: DeprecationWarning: Importing display from IPython.core.display is deprecated since IPython 7.14, please import from IPython display\n",
                        "  from IPython.core.display import HTML, display  # type: ignore\n"
                    ]
                },
                {
                    "data": {
                        "text/html": [
                            "wandb version 0.13.10 is available!  To upgrade, please run:\n",
                            " $ pip install wandb --upgrade"
                        ],
                        "text/plain": [
                            "<IPython.core.display.HTML object>"
                        ]
                    },
                    "metadata": {},
                    "output_type": "display_data"
                },
                {
                    "name": "stderr",
                    "output_type": "stream",
                    "text": [
                        "/home/djjin/anaconda3/envs/test/lib/python3.8/site-packages/wandb/sdk/lib/ipython.py:46: DeprecationWarning: Importing display from IPython.core.display is deprecated since IPython 7.14, please import from IPython display\n",
                        "  from IPython.core.display import HTML, display  # type: ignore\n"
                    ]
                },
                {
                    "data": {
                        "text/html": [
                            "Tracking run with wandb version 0.13.9"
                        ],
                        "text/plain": [
                            "<IPython.core.display.HTML object>"
                        ]
                    },
                    "metadata": {},
                    "output_type": "display_data"
                },
                {
                    "name": "stderr",
                    "output_type": "stream",
                    "text": [
                        "/home/djjin/anaconda3/envs/test/lib/python3.8/site-packages/wandb/sdk/lib/ipython.py:46: DeprecationWarning: Importing display from IPython.core.display is deprecated since IPython 7.14, please import from IPython display\n",
                        "  from IPython.core.display import HTML, display  # type: ignore\n"
                    ]
                },
                {
                    "data": {
                        "text/html": [
                            "Run data is saved locally in <code>/home/djjin/Mygit/2023-RL-Seminar/tests/wandb/run-20230211_174121-ym336wlj</code>"
                        ],
                        "text/plain": [
                            "<IPython.core.display.HTML object>"
                        ]
                    },
                    "metadata": {},
                    "output_type": "display_data"
                },
                {
                    "name": "stderr",
                    "output_type": "stream",
                    "text": [
                        "/home/djjin/anaconda3/envs/test/lib/python3.8/site-packages/wandb/sdk/lib/ipython.py:46: DeprecationWarning: Importing display from IPython.core.display is deprecated since IPython 7.14, please import from IPython display\n",
                        "  from IPython.core.display import HTML, display  # type: ignore\n"
                    ]
                },
                {
                    "data": {
                        "text/html": [
                            "Syncing run <strong><a href=\"https://wandb.ai/cau-railab/DQN/runs/ym336wlj\" target=\"_blank\">absurd-bird-7</a></strong> to <a href=\"https://wandb.ai/cau-railab/DQN\" target=\"_blank\">Weights & Biases</a> (<a href=\"https://wandb.me/run\" target=\"_blank\">docs</a>)<br/>"
                        ],
                        "text/plain": [
                            "<IPython.core.display.HTML object>"
                        ]
                    },
                    "metadata": {},
                    "output_type": "display_data"
                },
                {
                    "name": "stderr",
                    "output_type": "stream",
                    "text": [
                        "/home/djjin/anaconda3/envs/test/lib/python3.8/site-packages/wandb/sdk/lib/ipython.py:46: DeprecationWarning: Importing display from IPython.core.display is deprecated since IPython 7.14, please import from IPython display\n",
                        "  from IPython.core.display import HTML, display  # type: ignore\n"
                    ]
                },
                {
                    "data": {
                        "text/html": [
                            " View project at <a href=\"https://wandb.ai/cau-railab/DQN\" target=\"_blank\">https://wandb.ai/cau-railab/DQN</a>"
                        ],
                        "text/plain": [
                            "<IPython.core.display.HTML object>"
                        ]
                    },
                    "metadata": {},
                    "output_type": "display_data"
                },
                {
                    "name": "stderr",
                    "output_type": "stream",
                    "text": [
                        "/home/djjin/anaconda3/envs/test/lib/python3.8/site-packages/wandb/sdk/lib/ipython.py:46: DeprecationWarning: Importing display from IPython.core.display is deprecated since IPython 7.14, please import from IPython display\n",
                        "  from IPython.core.display import HTML, display  # type: ignore\n"
                    ]
                },
                {
                    "data": {
                        "text/html": [
                            " View run at <a href=\"https://wandb.ai/cau-railab/DQN/runs/ym336wlj\" target=\"_blank\">https://wandb.ai/cau-railab/DQN/runs/ym336wlj</a>"
                        ],
                        "text/plain": [
                            "<IPython.core.display.HTML object>"
                        ]
                    },
                    "metadata": {},
                    "output_type": "display_data"
                },
                {
                    "data": {
                        "text/html": [
                            "<button onClick=\"this.nextSibling.style.display='block';this.style.display='none';\">Display W&B run</button><iframe src=\"https://wandb.ai/cau-railab/DQN/runs/ym336wlj?jupyter=true\" style=\"border:none;width:100%;height:420px;display:none;\"></iframe>"
                        ],
                        "text/plain": [
                            "<wandb.sdk.wandb_run.Run at 0x7fc26ef92af0>"
                        ]
                    },
                    "execution_count": 4,
                    "metadata": {},
                    "output_type": "execute_result"
                }
            ],
            "source": [
                "wandb.init(project=\"DQN\", config=config)"
            ]
        },
        {
            "cell_type": "code",
            "execution_count": 5,
            "metadata": {},
            "outputs": [],
            "source": [
                "save_dir = \"result/DQN/atari/\"\n",
                "rl_util.create_directory(save_dir)\n",
                "save_model_name = save_dir + env_name + \"_mean_score.pt\""
            ]
        },
        {
            "cell_type": "code",
            "execution_count": 6,
            "metadata": {},
            "outputs": [
                {
                    "name": "stdout",
                    "output_type": "stream",
                    "text": [
                        "Model Initializing... An input shape is (4, 84, 84)\n",
                        "Model Initializing... An input shape is (4, 84, 84)\n",
                        "========== Config Info ==========\n",
                        "\u001b[0;36mn_episodes:\u001b[0m 10000\n",
                        "\u001b[0;36mbatch_size:\u001b[0m 64\n",
                        "\u001b[0;36mgamma:\u001b[0m 0.99\n",
                        "\u001b[0;36mlr:\u001b[0m 0.0001\n",
                        "\u001b[0;36mepsilon_start:\u001b[0m 1\n",
                        "\u001b[0;36mepsilon_end:\u001b[0m 0.01\n",
                        "\u001b[0;36mseed:\u001b[0m 0\n",
                        "\u001b[0;36mtarget_update_frequency:\u001b[0m 1000\n",
                        "\u001b[0;36mbuffer_type:\u001b[0m uniform\n",
                        "\u001b[0;36mbuffer_size:\u001b[0m 20000\n",
                        "\u001b[0;36mdevice:\u001b[0m cuda:0\n",
                        "\u001b[0;36mreplay_start_size:\u001b[0m 20000\n",
                        "\u001b[0;36mmean_reward_bound:\u001b[0m 10\n",
                        "=================================\n",
                        "<class 'src.commons.memory.replay_memory.ReplayMemory'>\n"
                    ]
                }
            ],
            "source": [
                "agent = DQNAgent(\n",
                "    obs_space_shape=env.observation_space.shape,\n",
                "    action_space_dims=env.action_space.n,\n",
                "    is_atari=True,\n",
                "    config=config,\n",
                ")\n",
                "print(agent.config)\n",
                "print(type(agent.memory))"
            ]
        },
        {
            "cell_type": "code",
            "execution_count": 7,
            "metadata": {},
            "outputs": [
                {
                    "name": "stdout",
                    "output_type": "stream",
                    "text": [
                        "CNNModel(\n",
                        "  (features): Sequential(\n",
                        "    (0): Conv2d(4, 32, kernel_size=(8, 8), stride=(4, 4))\n",
                        "    (1): ReLU()\n",
                        "    (2): Conv2d(32, 64, kernel_size=(4, 4), stride=(2, 2))\n",
                        "    (3): ReLU()\n",
                        "    (4): Conv2d(64, 64, kernel_size=(3, 3), stride=(1, 1))\n",
                        "    (5): ReLU()\n",
                        "  )\n",
                        "  (fc): Sequential(\n",
                        "    (0): Linear(in_features=3136, out_features=512, bias=True)\n",
                        "    (1): ReLU()\n",
                        "    (2): Linear(in_features=512, out_features=6, bias=True)\n",
                        "  )\n",
                        ")\n"
                    ]
                }
            ],
            "source": [
                "total_rewards = []\n",
                "losses = []\n",
                "total_reward = 0\n",
                "frame_idx = 0\n",
                "avg_loss = 0\n",
                "best_mean_reward = -10000\n",
                "state = env.reset()\n",
                "training_start = True\n",
                "done_reward = None\n",
                "cnt = 0\n",
                "print(agent.policy_network)"
            ]
        },
        {
            "cell_type": "code",
            "execution_count": 8,
            "metadata": {},
            "outputs": [
                {
                    "name": "stdout",
                    "output_type": "stream",
                    "text": [
                        "1002: episode: 1 | mean reward: -19.000 | loss: 0.0000 | epsilon: 0.9900\n",
                        "Best mean reward updated -10000.000 -> -19.000, model saved\n",
                        "1979: episode: 2 | mean reward: -19.500 | loss: 0.0000 | epsilon: 0.9802\n",
                        "2879: episode: 3 | mean reward: -19.667 | loss: 0.0000 | epsilon: 0.9712\n",
                        "3689: episode: 4 | mean reward: -20.000 | loss: 0.0000 | epsilon: 0.9631\n",
                        "4793: episode: 5 | mean reward: -19.800 | loss: 0.0000 | epsilon: 0.9521\n",
                        "5694: episode: 6 | mean reward: -20.000 | loss: 0.0000 | epsilon: 0.9431\n",
                        "6732: episode: 7 | mean reward: -19.857 | loss: 0.0000 | epsilon: 0.9327\n",
                        "7522: episode: 8 | mean reward: -20.000 | loss: 0.0000 | epsilon: 0.9248\n",
                        "8799: episode: 9 | mean reward: -19.778 | loss: 0.0000 | epsilon: 0.9120\n",
                        "9997: episode: 10 | mean reward: -19.800 | loss: 0.0000 | epsilon: 0.9000\n",
                        "11049: episode: 11 | mean reward: -19.818 | loss: 0.0000 | epsilon: 0.8895\n",
                        "11978: episode: 12 | mean reward: -19.833 | loss: 0.0000 | epsilon: 0.8802\n",
                        "12888: episode: 13 | mean reward: -19.923 | loss: 0.0000 | epsilon: 0.8711\n",
                        "13650: episode: 14 | mean reward: -20.000 | loss: 0.0000 | epsilon: 0.8635\n",
                        "14472: episode: 15 | mean reward: -20.067 | loss: 0.0000 | epsilon: 0.8553\n",
                        "15350: episode: 16 | mean reward: -20.125 | loss: 0.0000 | epsilon: 0.8465\n",
                        "16219: episode: 17 | mean reward: -20.118 | loss: 0.0000 | epsilon: 0.8378\n",
                        "17129: episode: 18 | mean reward: -20.167 | loss: 0.0000 | epsilon: 0.8287\n",
                        "18114: episode: 19 | mean reward: -20.105 | loss: 0.0000 | epsilon: 0.8189\n",
                        "18905: episode: 20 | mean reward: -20.150 | loss: 0.0000 | epsilon: 0.8110\n",
                        "19727: episode: 21 | mean reward: -20.190 | loss: 0.0000 | epsilon: 0.8027\n",
                        "Start Model Train..\n",
                        "20489: episode: 22 | mean reward: -20.227 | loss: 0.0143 | epsilon: 0.7951\n",
                        "21507: episode: 23 | mean reward: -20.217 | loss: 0.0238 | epsilon: 0.7849\n",
                        "22347: episode: 24 | mean reward: -20.208 | loss: 0.0235 | epsilon: 0.7765\n",
                        "23227: episode: 25 | mean reward: -20.240 | loss: 0.0231 | epsilon: 0.7677\n",
                        "24197: episode: 26 | mean reward: -20.192 | loss: 0.0138 | epsilon: 0.7580\n",
                        "25121: episode: 27 | mean reward: -20.222 | loss: 0.0092 | epsilon: 0.7488\n",
                        "26003: episode: 28 | mean reward: -20.250 | loss: 0.0060 | epsilon: 0.7400\n",
                        "26827: episode: 29 | mean reward: -20.276 | loss: 0.0055 | epsilon: 0.7317\n",
                        "27712: episode: 30 | mean reward: -20.300 | loss: 0.0039 | epsilon: 0.7229\n",
                        "28824: episode: 31 | mean reward: -20.290 | loss: 0.0036 | epsilon: 0.7118\n",
                        "29773: episode: 32 | mean reward: -20.312 | loss: 0.0036 | epsilon: 0.7023\n",
                        "30614: episode: 33 | mean reward: -20.303 | loss: 0.0036 | epsilon: 0.6939\n",
                        "31500: episode: 34 | mean reward: -20.324 | loss: 0.0032 | epsilon: 0.6850\n",
                        "32521: episode: 35 | mean reward: -20.343 | loss: 0.0032 | epsilon: 0.6748\n",
                        "33587: episode: 36 | mean reward: -20.361 | loss: 0.0031 | epsilon: 0.6641\n",
                        "34640: episode: 37 | mean reward: -20.378 | loss: 0.0033 | epsilon: 0.6536\n",
                        "35772: episode: 38 | mean reward: -20.368 | loss: 0.0035 | epsilon: 0.6423\n",
                        "36815: episode: 39 | mean reward: -20.333 | loss: 0.0034 | epsilon: 0.6319\n",
                        "37889: episode: 40 | mean reward: -20.300 | loss: 0.0035 | epsilon: 0.6211\n",
                        "39158: episode: 41 | mean reward: -20.244 | loss: 0.0041 | epsilon: 0.6084\n",
                        "40427: episode: 42 | mean reward: -20.214 | loss: 0.0044 | epsilon: 0.5957\n",
                        "41726: episode: 43 | mean reward: -20.186 | loss: 0.0044 | epsilon: 0.5827\n",
                        "42980: episode: 44 | mean reward: -20.159 | loss: 0.0053 | epsilon: 0.5702\n",
                        "44400: episode: 45 | mean reward: -20.089 | loss: 0.0066 | epsilon: 0.5560\n",
                        "45663: episode: 46 | mean reward: -20.087 | loss: 0.0082 | epsilon: 0.5434\n",
                        "46724: episode: 47 | mean reward: -20.106 | loss: 0.0081 | epsilon: 0.5328\n",
                        "48110: episode: 48 | mean reward: -20.042 | loss: 0.0073 | epsilon: 0.5189\n",
                        "49720: episode: 49 | mean reward: -19.959 | loss: 0.0072 | epsilon: 0.5028\n",
                        "50986: episode: 50 | mean reward: -19.940 | loss: 0.0070 | epsilon: 0.4901\n",
                        "52395: episode: 51 | mean reward: -19.941 | loss: 0.0062 | epsilon: 0.4760\n",
                        "54061: episode: 52 | mean reward: -19.904 | loss: 0.0062 | epsilon: 0.4594\n",
                        "55874: episode: 53 | mean reward: -19.830 | loss: 0.0067 | epsilon: 0.4413\n",
                        "57404: episode: 54 | mean reward: -19.796 | loss: 0.0068 | epsilon: 0.4260\n",
                        "59048: episode: 55 | mean reward: -19.745 | loss: 0.0062 | epsilon: 0.4095\n",
                        "60818: episode: 56 | mean reward: -19.714 | loss: 0.0063 | epsilon: 0.3918\n",
                        "62988: episode: 57 | mean reward: -19.632 | loss: 0.0065 | epsilon: 0.3701\n",
                        "64726: episode: 58 | mean reward: -19.586 | loss: 0.0070 | epsilon: 0.3527\n",
                        "66553: episode: 59 | mean reward: -19.542 | loss: 0.0070 | epsilon: 0.3345\n",
                        "68083: episode: 60 | mean reward: -19.550 | loss: 0.0065 | epsilon: 0.3192\n",
                        "69896: episode: 61 | mean reward: -19.492 | loss: 0.0058 | epsilon: 0.3010\n",
                        "71755: episode: 62 | mean reward: -19.468 | loss: 0.0057 | epsilon: 0.2824\n",
                        "74144: episode: 63 | mean reward: -19.349 | loss: 0.0057 | epsilon: 0.2586\n",
                        "75755: episode: 64 | mean reward: -19.297 | loss: 0.0053 | epsilon: 0.2425\n",
                        "77680: episode: 65 | mean reward: -19.231 | loss: 0.0053 | epsilon: 0.2232\n",
                        "80301: episode: 66 | mean reward: -19.106 | loss: 0.0059 | epsilon: 0.1970\n",
                        "82401: episode: 67 | mean reward: -19.045 | loss: 0.0054 | epsilon: 0.1760\n",
                        "84633: episode: 68 | mean reward: -18.971 | loss: 0.0056 | epsilon: 0.1537\n",
                        "Best mean reward updated -19.000 -> -18.971, model saved\n",
                        "86803: episode: 69 | mean reward: -18.899 | loss: 0.0052 | epsilon: 0.1320\n",
                        "Best mean reward updated -18.971 -> -18.899, model saved\n",
                        "88901: episode: 70 | mean reward: -18.871 | loss: 0.0045 | epsilon: 0.1110\n",
                        "Best mean reward updated -18.899 -> -18.871, model saved\n",
                        "91547: episode: 71 | mean reward: -18.803 | loss: 0.0043 | epsilon: 0.0845\n",
                        "Best mean reward updated -18.871 -> -18.803, model saved\n",
                        "94451: episode: 72 | mean reward: -18.708 | loss: 0.0040 | epsilon: 0.0555\n",
                        "Best mean reward updated -18.803 -> -18.708, model saved\n",
                        "97244: episode: 73 | mean reward: -18.630 | loss: 0.0037 | epsilon: 0.0276\n",
                        "Best mean reward updated -18.708 -> -18.630, model saved\n",
                        "100453: episode: 74 | mean reward: -18.554 | loss: 0.0033 | epsilon: 0.0100\n",
                        "Best mean reward updated -18.630 -> -18.554, model saved\n",
                        "103507: episode: 75 | mean reward: -18.427 | loss: 0.0030 | epsilon: 0.0100\n",
                        "Best mean reward updated -18.554 -> -18.427, model saved\n",
                        "106212: episode: 76 | mean reward: -18.303 | loss: 0.0031 | epsilon: 0.0100\n",
                        "Best mean reward updated -18.427 -> -18.303, model saved\n",
                        "109718: episode: 77 | mean reward: -18.117 | loss: 0.0031 | epsilon: 0.0100\n",
                        "Best mean reward updated -18.303 -> -18.117, model saved\n",
                        "112764: episode: 78 | mean reward: -18.013 | loss: 0.0031 | epsilon: 0.0100\n",
                        "Best mean reward updated -18.117 -> -18.013, model saved\n",
                        "115910: episode: 79 | mean reward: -17.924 | loss: 0.0032 | epsilon: 0.0100\n",
                        "Best mean reward updated -18.013 -> -17.924, model saved\n",
                        "118387: episode: 80 | mean reward: -17.875 | loss: 0.0031 | epsilon: 0.0100\n",
                        "Best mean reward updated -17.924 -> -17.875, model saved\n",
                        "122503: episode: 81 | mean reward: -17.704 | loss: 0.0031 | epsilon: 0.0100\n",
                        "Best mean reward updated -17.875 -> -17.704, model saved\n",
                        "126005: episode: 82 | mean reward: -17.573 | loss: 0.0029 | epsilon: 0.0100\n",
                        "Best mean reward updated -17.704 -> -17.573, model saved\n",
                        "130123: episode: 83 | mean reward: -17.277 | loss: 0.0029 | epsilon: 0.0100\n",
                        "Best mean reward updated -17.573 -> -17.277, model saved\n",
                        "133197: episode: 84 | mean reward: -17.167 | loss: 0.0027 | epsilon: 0.0100\n",
                        "Best mean reward updated -17.277 -> -17.167, model saved\n",
                        "136684: episode: 85 | mean reward: -17.071 | loss: 0.0025 | epsilon: 0.0100\n",
                        "Best mean reward updated -17.167 -> -17.071, model saved\n",
                        "140394: episode: 86 | mean reward: -16.930 | loss: 0.0026 | epsilon: 0.0100\n",
                        "Best mean reward updated -17.071 -> -16.930, model saved\n",
                        "143807: episode: 87 | mean reward: -16.793 | loss: 0.0024 | epsilon: 0.0100\n",
                        "Best mean reward updated -16.930 -> -16.793, model saved\n",
                        "147224: episode: 88 | mean reward: -16.648 | loss: 0.0027 | epsilon: 0.0100\n",
                        "Best mean reward updated -16.793 -> -16.648, model saved\n",
                        "150580: episode: 89 | mean reward: -16.427 | loss: 0.0026 | epsilon: 0.0100\n",
                        "Best mean reward updated -16.648 -> -16.427, model saved\n",
                        "153650: episode: 90 | mean reward: -16.167 | loss: 0.0024 | epsilon: 0.0100\n",
                        "Best mean reward updated -16.427 -> -16.167, model saved\n",
                        "157332: episode: 91 | mean reward: -15.934 | loss: 0.0024 | epsilon: 0.0100\n",
                        "Best mean reward updated -16.167 -> -15.934, model saved\n",
                        "160411: episode: 92 | mean reward: -15.685 | loss: 0.0026 | epsilon: 0.0100\n",
                        "Best mean reward updated -15.934 -> -15.685, model saved\n",
                        "163149: episode: 93 | mean reward: -15.387 | loss: 0.0027 | epsilon: 0.0100\n",
                        "Best mean reward updated -15.685 -> -15.387, model saved\n",
                        "165079: episode: 94 | mean reward: -15.032 | loss: 0.0026 | epsilon: 0.0100\n",
                        "Best mean reward updated -15.387 -> -15.032, model saved\n",
                        "167055: episode: 95 | mean reward: -14.684 | loss: 0.0023 | epsilon: 0.0100\n",
                        "Best mean reward updated -15.032 -> -14.684, model saved\n",
                        "169193: episode: 96 | mean reward: -14.354 | loss: 0.0024 | epsilon: 0.0100\n",
                        "Best mean reward updated -14.684 -> -14.354, model saved\n",
                        "172155: episode: 97 | mean reward: -14.093 | loss: 0.0027 | epsilon: 0.0100\n",
                        "Best mean reward updated -14.354 -> -14.093, model saved\n",
                        "174285: episode: 98 | mean reward: -13.786 | loss: 0.0027 | epsilon: 0.0100\n",
                        "Best mean reward updated -14.093 -> -13.786, model saved\n",
                        "176093: episode: 99 | mean reward: -13.444 | loss: 0.0025 | epsilon: 0.0100\n",
                        "Best mean reward updated -13.786 -> -13.444, model saved\n",
                        "177789: episode: 100 | mean reward: -13.100 | loss: 0.0022 | epsilon: 0.0100\n",
                        "Best mean reward updated -13.444 -> -13.100, model saved\n",
                        "179663: episode: 101 | mean reward: -12.720 | loss: 0.0021 | epsilon: 0.0100\n",
                        "Best mean reward updated -13.100 -> -12.720, model saved\n",
                        "181612: episode: 102 | mean reward: -12.350 | loss: 0.0022 | epsilon: 0.0100\n",
                        "Best mean reward updated -12.720 -> -12.350, model saved\n",
                        "183939: episode: 103 | mean reward: -12.000 | loss: 0.0023 | epsilon: 0.0100\n",
                        "Best mean reward updated -12.350 -> -12.000, model saved\n",
                        "185978: episode: 104 | mean reward: -11.630 | loss: 0.0024 | epsilon: 0.0100\n",
                        "Best mean reward updated -12.000 -> -11.630, model saved\n",
                        "188172: episode: 105 | mean reward: -11.290 | loss: 0.0024 | epsilon: 0.0100\n",
                        "Best mean reward updated -11.630 -> -11.290, model saved\n",
                        "190285: episode: 106 | mean reward: -10.930 | loss: 0.0024 | epsilon: 0.0100\n",
                        "Best mean reward updated -11.290 -> -10.930, model saved\n",
                        "193235: episode: 107 | mean reward: -10.660 | loss: 0.0023 | epsilon: 0.0100\n",
                        "Best mean reward updated -10.930 -> -10.660, model saved\n",
                        "195250: episode: 108 | mean reward: -10.290 | loss: 0.0024 | epsilon: 0.0100\n",
                        "Best mean reward updated -10.660 -> -10.290, model saved\n",
                        "197117: episode: 109 | mean reward: -9.940 | loss: 0.0024 | epsilon: 0.0100\n",
                        "Best mean reward updated -10.290 -> -9.940, model saved\n",
                        "199009: episode: 110 | mean reward: -9.560 | loss: 0.0020 | epsilon: 0.0100\n",
                        "Best mean reward updated -9.940 -> -9.560, model saved\n",
                        "200935: episode: 111 | mean reward: -9.210 | loss: 0.0022 | epsilon: 0.0100\n",
                        "Best mean reward updated -9.560 -> -9.210, model saved\n",
                        "202841: episode: 112 | mean reward: -8.830 | loss: 0.0018 | epsilon: 0.0100\n",
                        "Best mean reward updated -9.210 -> -8.830, model saved\n",
                        "204903: episode: 113 | mean reward: -8.440 | loss: 0.0019 | epsilon: 0.0100\n",
                        "Best mean reward updated -8.830 -> -8.440, model saved\n",
                        "207158: episode: 114 | mean reward: -8.070 | loss: 0.0018 | epsilon: 0.0100\n",
                        "Best mean reward updated -8.440 -> -8.070, model saved\n",
                        "209256: episode: 115 | mean reward: -7.700 | loss: 0.0021 | epsilon: 0.0100\n",
                        "Best mean reward updated -8.070 -> -7.700, model saved\n",
                        "210961: episode: 116 | mean reward: -7.290 | loss: 0.0017 | epsilon: 0.0100\n",
                        "Best mean reward updated -7.700 -> -7.290, model saved\n",
                        "213448: episode: 117 | mean reward: -6.970 | loss: 0.0019 | epsilon: 0.0100\n",
                        "Best mean reward updated -7.290 -> -6.970, model saved\n",
                        "215638: episode: 118 | mean reward: -6.580 | loss: 0.0018 | epsilon: 0.0100\n",
                        "Best mean reward updated -6.970 -> -6.580, model saved\n",
                        "217829: episode: 119 | mean reward: -6.230 | loss: 0.0019 | epsilon: 0.0100\n",
                        "Best mean reward updated -6.580 -> -6.230, model saved\n",
                        "220115: episode: 120 | mean reward: -5.880 | loss: 0.0020 | epsilon: 0.0100\n",
                        "Best mean reward updated -6.230 -> -5.880, model saved\n",
                        "221905: episode: 121 | mean reward: -5.480 | loss: 0.0017 | epsilon: 0.0100\n",
                        "Best mean reward updated -5.880 -> -5.480, model saved\n",
                        "223791: episode: 122 | mean reward: -5.080 | loss: 0.0017 | epsilon: 0.0100\n",
                        "Best mean reward updated -5.480 -> -5.080, model saved\n",
                        "225712: episode: 123 | mean reward: -4.700 | loss: 0.0018 | epsilon: 0.0100\n",
                        "Best mean reward updated -5.080 -> -4.700, model saved\n",
                        "227490: episode: 124 | mean reward: -4.310 | loss: 0.0016 | epsilon: 0.0100\n",
                        "Best mean reward updated -4.700 -> -4.310, model saved\n",
                        "229522: episode: 125 | mean reward: -3.940 | loss: 0.0017 | epsilon: 0.0100\n",
                        "Best mean reward updated -4.310 -> -3.940, model saved\n",
                        "231633: episode: 126 | mean reward: -3.590 | loss: 0.0017 | epsilon: 0.0100\n",
                        "Best mean reward updated -3.940 -> -3.590, model saved\n",
                        "233367: episode: 127 | mean reward: -3.190 | loss: 0.0015 | epsilon: 0.0100\n",
                        "Best mean reward updated -3.590 -> -3.190, model saved\n",
                        "235357: episode: 128 | mean reward: -2.800 | loss: 0.0017 | epsilon: 0.0100\n",
                        "Best mean reward updated -3.190 -> -2.800, model saved\n",
                        "237153: episode: 129 | mean reward: -2.400 | loss: 0.0018 | epsilon: 0.0100\n",
                        "Best mean reward updated -2.800 -> -2.400, model saved\n",
                        "239036: episode: 130 | mean reward: -2.000 | loss: 0.0016 | epsilon: 0.0100\n",
                        "Best mean reward updated -2.400 -> -2.000, model saved\n",
                        "240788: episode: 131 | mean reward: -1.610 | loss: 0.0014 | epsilon: 0.0100\n",
                        "Best mean reward updated -2.000 -> -1.610, model saved\n",
                        "242535: episode: 132 | mean reward: -1.200 | loss: 0.0017 | epsilon: 0.0100\n",
                        "Best mean reward updated -1.610 -> -1.200, model saved\n",
                        "244298: episode: 133 | mean reward: -0.810 | loss: 0.0017 | epsilon: 0.0100\n",
                        "Best mean reward updated -1.200 -> -0.810, model saved\n",
                        "245998: episode: 134 | mean reward: -0.400 | loss: 0.0014 | epsilon: 0.0100\n",
                        "Best mean reward updated -0.810 -> -0.400, model saved\n",
                        "247881: episode: 135 | mean reward: -0.010 | loss: 0.0014 | epsilon: 0.0100\n",
                        "Best mean reward updated -0.400 -> -0.010, model saved\n",
                        "249812: episode: 136 | mean reward: 0.360 | loss: 0.0014 | epsilon: 0.0100\n",
                        "Best mean reward updated -0.010 -> 0.360, model saved\n",
                        "251684: episode: 137 | mean reward: 0.750 | loss: 0.0017 | epsilon: 0.0100\n",
                        "Best mean reward updated 0.360 -> 0.750, model saved\n",
                        "253905: episode: 138 | mean reward: 1.090 | loss: 0.0015 | epsilon: 0.0100\n",
                        "Best mean reward updated 0.750 -> 1.090, model saved\n",
                        "255859: episode: 139 | mean reward: 1.470 | loss: 0.0016 | epsilon: 0.0100\n",
                        "Best mean reward updated 1.090 -> 1.470, model saved\n",
                        "257888: episode: 140 | mean reward: 1.820 | loss: 0.0016 | epsilon: 0.0100\n",
                        "Best mean reward updated 1.470 -> 1.820, model saved\n",
                        "259691: episode: 141 | mean reward: 2.190 | loss: 0.0016 | epsilon: 0.0100\n",
                        "Best mean reward updated 1.820 -> 2.190, model saved\n",
                        "261745: episode: 142 | mean reward: 2.570 | loss: 0.0016 | epsilon: 0.0100\n",
                        "Best mean reward updated 2.190 -> 2.570, model saved\n",
                        "263675: episode: 143 | mean reward: 2.940 | loss: 0.0015 | epsilon: 0.0100\n",
                        "Best mean reward updated 2.570 -> 2.940, model saved\n",
                        "265665: episode: 144 | mean reward: 3.300 | loss: 0.0016 | epsilon: 0.0100\n",
                        "Best mean reward updated 2.940 -> 3.300, model saved\n",
                        "267631: episode: 145 | mean reward: 3.640 | loss: 0.0015 | epsilon: 0.0100\n",
                        "Best mean reward updated 3.300 -> 3.640, model saved\n",
                        "269966: episode: 146 | mean reward: 3.980 | loss: 0.0016 | epsilon: 0.0100\n",
                        "Best mean reward updated 3.640 -> 3.980, model saved\n",
                        "271640: episode: 147 | mean reward: 4.390 | loss: 0.0014 | epsilon: 0.0100\n",
                        "Best mean reward updated 3.980 -> 4.390, model saved\n",
                        "273337: episode: 148 | mean reward: 4.770 | loss: 0.0013 | epsilon: 0.0100\n",
                        "Best mean reward updated 4.390 -> 4.770, model saved\n",
                        "275067: episode: 149 | mean reward: 5.130 | loss: 0.0013 | epsilon: 0.0100\n",
                        "Best mean reward updated 4.770 -> 5.130, model saved\n",
                        "276767: episode: 150 | mean reward: 5.520 | loss: 0.0012 | epsilon: 0.0100\n",
                        "Best mean reward updated 5.130 -> 5.520, model saved\n",
                        "278541: episode: 151 | mean reward: 5.910 | loss: 0.0013 | epsilon: 0.0100\n",
                        "Best mean reward updated 5.520 -> 5.910, model saved\n",
                        "280180: episode: 152 | mean reward: 6.300 | loss: 0.0013 | epsilon: 0.0100\n",
                        "Best mean reward updated 5.910 -> 6.300, model saved\n",
                        "281819: episode: 153 | mean reward: 6.670 | loss: 0.0012 | epsilon: 0.0100\n",
                        "Best mean reward updated 6.300 -> 6.670, model saved\n",
                        "283698: episode: 154 | mean reward: 7.040 | loss: 0.0015 | epsilon: 0.0100\n",
                        "Best mean reward updated 6.670 -> 7.040, model saved\n",
                        "285815: episode: 155 | mean reward: 7.370 | loss: 0.0013 | epsilon: 0.0100\n",
                        "Best mean reward updated 7.040 -> 7.370, model saved\n",
                        "287636: episode: 156 | mean reward: 7.730 | loss: 0.0016 | epsilon: 0.0100\n",
                        "Best mean reward updated 7.370 -> 7.730, model saved\n",
                        "289396: episode: 157 | mean reward: 8.080 | loss: 0.0015 | epsilon: 0.0100\n",
                        "Best mean reward updated 7.730 -> 8.080, model saved\n",
                        "291032: episode: 158 | mean reward: 8.460 | loss: 0.0015 | epsilon: 0.0100\n",
                        "Best mean reward updated 8.080 -> 8.460, model saved\n",
                        "293048: episode: 159 | mean reward: 8.780 | loss: 0.0013 | epsilon: 0.0100\n",
                        "Best mean reward updated 8.460 -> 8.780, model saved\n",
                        "294831: episode: 160 | mean reward: 9.180 | loss: 0.0015 | epsilon: 0.0100\n",
                        "Best mean reward updated 8.780 -> 9.180, model saved\n",
                        "296640: episode: 161 | mean reward: 9.540 | loss: 0.0017 | epsilon: 0.0100\n",
                        "Best mean reward updated 9.180 -> 9.540, model saved\n",
                        "298339: episode: 162 | mean reward: 9.930 | loss: 0.0014 | epsilon: 0.0100\n",
                        "Best mean reward updated 9.540 -> 9.930, model saved\n",
                        "300133: episode: 163 | mean reward: 10.250 | loss: 0.0014 | epsilon: 0.0100\n",
                        "Best mean reward updated 9.930 -> 10.250, model saved\n",
                        "301771: episode: 164 | mean reward: 10.620 | loss: 0.0013 | epsilon: 0.0100\n",
                        "Best mean reward updated 10.250 -> 10.620, model saved\n",
                        "303631: episode: 165 | mean reward: 10.960 | loss: 0.0013 | epsilon: 0.0100\n",
                        "Best mean reward updated 10.620 -> 10.960, model saved\n",
                        "305406: episode: 166 | mean reward: 11.260 | loss: 0.0014 | epsilon: 0.0100\n",
                        "Best mean reward updated 10.960 -> 11.260, model saved\n"
                    ]
                },
                {
                    "ename": "KeyboardInterrupt",
                    "evalue": "",
                    "output_type": "error",
                    "traceback": [
                        "\u001b[0;31m---------------------------------------------------------------------------\u001b[0m",
                        "\u001b[0;31mKeyboardInterrupt\u001b[0m                         Traceback (most recent call last)",
                        "Cell \u001b[0;32mIn[8], line 56\u001b[0m\n\u001b[1;32m     53\u001b[0m     \u001b[39mif\u001b[39;00m frame_idx \u001b[39m%\u001b[39m agent\u001b[39m.\u001b[39mconfig\u001b[39m.\u001b[39mtarget_update_frequency \u001b[39m==\u001b[39m \u001b[39m0\u001b[39m:\n\u001b[1;32m     54\u001b[0m         \u001b[39m# agent.soft_update_target_network()\u001b[39;00m\n\u001b[1;32m     55\u001b[0m         agent\u001b[39m.\u001b[39mupdate_target_network()\n\u001b[0;32m---> 56\u001b[0m     loss \u001b[39m=\u001b[39m agent\u001b[39m.\u001b[39;49mupdate()\n\u001b[1;32m     57\u001b[0m     avg_loss \u001b[39m+\u001b[39m\u001b[39m=\u001b[39m loss\n\u001b[1;32m     59\u001b[0m env\u001b[39m.\u001b[39mclose()\n",
                        "File \u001b[0;32m~/Mygit/2023-RL-Seminar/src/agents/dqn_agent.py:91\u001b[0m, in \u001b[0;36mDQNAgent.update\u001b[0;34m(self)\u001b[0m\n\u001b[1;32m     90\u001b[0m \u001b[39mdef\u001b[39;00m \u001b[39mupdate\u001b[39m(\u001b[39mself\u001b[39m):\n\u001b[0;32m---> 91\u001b[0m     states, actions, rewards, next_states, dones \u001b[39m=\u001b[39m \u001b[39mself\u001b[39;49m\u001b[39m.\u001b[39;49mmemory\u001b[39m.\u001b[39;49msample(\n\u001b[1;32m     92\u001b[0m         \u001b[39mself\u001b[39;49m\u001b[39m.\u001b[39;49mconfig\u001b[39m.\u001b[39;49mbatch_size, \u001b[39mself\u001b[39;49m\u001b[39m.\u001b[39;49mconfig\u001b[39m.\u001b[39;49mdevice\n\u001b[1;32m     93\u001b[0m     )\n\u001b[1;32m     95\u001b[0m     \u001b[39m# Get expected Q values from policy model\u001b[39;00m\n\u001b[1;32m     96\u001b[0m     Q_expected_current \u001b[39m=\u001b[39m \u001b[39mself\u001b[39m\u001b[39m.\u001b[39mpolicy_network(states)\n",
                        "File \u001b[0;32m~/Mygit/2023-RL-Seminar/src/commons/memory/replay_memory.py:30\u001b[0m, in \u001b[0;36mReplayMemory.sample\u001b[0;34m(self, batch_size, device)\u001b[0m\n\u001b[1;32m     27\u001b[0m     next_states\u001b[39m.\u001b[39mappend(batch[\u001b[39m3\u001b[39m])\n\u001b[1;32m     28\u001b[0m     dones\u001b[39m.\u001b[39mappend(batch[\u001b[39m4\u001b[39m])\n\u001b[0;32m---> 30\u001b[0m states \u001b[39m=\u001b[39m torch\u001b[39m.\u001b[39;49mfrom_numpy(np\u001b[39m.\u001b[39;49marray(states))\u001b[39m.\u001b[39;49mfloat()\u001b[39m.\u001b[39;49mto(device)\n\u001b[1;32m     31\u001b[0m actions \u001b[39m=\u001b[39m torch\u001b[39m.\u001b[39mfrom_numpy(np\u001b[39m.\u001b[39marray(actions))\u001b[39m.\u001b[39mlong()\u001b[39m.\u001b[39mto(device)\n\u001b[1;32m     32\u001b[0m rewards \u001b[39m=\u001b[39m torch\u001b[39m.\u001b[39mfrom_numpy(np\u001b[39m.\u001b[39marray(rewards))\u001b[39m.\u001b[39mfloat()\u001b[39m.\u001b[39mto(device)\n",
                        "\u001b[0;31mKeyboardInterrupt\u001b[0m: "
                    ]
                }
            ],
            "source": [
                "\n",
                "while True:\n",
                "    frame_idx += 1\n",
                "    cnt += 1\n",
                "    done_reward = None\n",
                "    \n",
                "    eps = max(agent.config.epsilon_end, agent.config.epsilon_start - frame_idx / 100000)\n",
                "    agent.decay_epsilon(frame_idx)\n",
                "    action = agent.select_action(state, eps)\n",
                "    next_state, reward, done, info = env.step(action)\n",
                "    total_reward += reward\n",
                "    agent.store_transition(state, action, reward, next_state, done)\n",
                "    state = next_state\n",
                "\n",
                "    if done:\n",
                "        done_reward = total_reward\n",
                "        state = env.reset()\n",
                "        total_reward = 0\n",
                "        avg_loss /= cnt\n",
                "        cnt = 0\n",
                "    \n",
                "    if done_reward is not None:\n",
                "        total_rewards.append(done_reward)\n",
                "        mean_reward = np.mean(total_rewards[-100:])\n",
                "        losses.append(avg_loss)\n",
                "        print(\n",
                "            f\"{frame_idx}: episode: {len(total_rewards)} | mean reward: {mean_reward:.3f} | loss: {avg_loss:.4f} | epsilon: {eps:.4f}\"\n",
                "        )\n",
                "        wandb.log({\n",
                "            \"episode\": len(total_rewards),\n",
                "            \"mean reward\": mean_reward,\n",
                "            \"loss\": avg_loss,\n",
                "            \"epsilon\": eps\n",
                "        })\n",
                "        if best_mean_reward < mean_reward:\n",
                "            torch.save(agent.policy_network.state_dict(), save_model_name)\n",
                "            print(f\"Best mean reward updated {best_mean_reward:.3f} -> {mean_reward:.3f}, model saved\")\n",
                "            best_mean_reward = mean_reward\n",
                "            if mean_reward > agent.config.mean_reward_bound:\n",
                "                print(f\"Solved in {frame_idx} frames!\")\n",
                "                break\n",
                "            else:\n",
                "                if len(total_rewards) > 1000:\n",
                "                    break\n",
                "\n",
                "    if len(agent.memory.replay_buffer) < agent.config.replay_start_size:\n",
                "        continue\n",
                "\n",
                "    if training_start:\n",
                "        print(\"Start Model Train..\")\n",
                "        training_start = False\n",
                "\n",
                "    if frame_idx % agent.config.target_update_frequency == 0:\n",
                "        # agent.soft_update_target_network()\n",
                "        agent.update_target_network()\n",
                "    loss = agent.update()\n",
                "    avg_loss += loss\n",
                "    \n",
                "env.close()"
            ]
        },
        {
            "cell_type": "code",
            "execution_count": 9,
            "metadata": {},
            "outputs": [
                {
                    "name": "stdout",
                    "output_type": "stream",
                    "text": [
                        "Save result/DQN/atari/reward_2023_02_11_06_26_29.png\n"
                    ]
                },
                {
                    "data": {
                        "image/png": "[encoded data removed]",
                        "text/plain": [
                            "<Figure size 1200x600 with 1 Axes>"
                        ]
                    },
                    "metadata": {},
                    "output_type": "display_data"
                },
                {
                    "name": "stdout",
                    "output_type": "stream",
                    "text": [
                        "Save result/DQN/atari/loss_2023_02_11_06_26_29.png\n"
                    ]
                },
                {
                    "data": {
                        "image/png": "[encoded data removed]",
                        "text/plain": [
                            "<Figure size 1200x600 with 1 Axes>"
                        ]
                    },
                    "metadata": {},
                    "output_type": "display_data"
                }
            ],
            "source": [
                "fig, ax = rl_util.init_2d_figure(\"Reward\")\n",
                "rl_util.plot_graph(\n",
                "    ax,\n",
                "    total_rewards,\n",
                "    title=\"reward\",\n",
                "    ylabel=\"reward\",\n",
                "    save_dir_name=save_dir,\n",
                "    is_save=True,\n",
                ")\n",
                "rl_util.show_figure()\n",
                "fig, ax = rl_util.init_2d_figure(\"Loss\")\n",
                "rl_util.plot_graph(\n",
                "    ax, losses, title=\"loss\", ylabel=\"loss\", save_dir_name=save_dir, is_save=True\n",
                ")\n",
                "rl_util.show_figure()"
            ]
        },
        {
            "cell_type": "code",
            "execution_count": 13,
            "metadata": {},
            "outputs": [
                {
                    "name": "stdout",
                    "output_type": "stream",
                    "text": [
                        "Model Initializing... An input shape is (4, 84, 84)\n",
                        "Model Initializing... An input shape is (4, 84, 84)\n"
                    ]
                }
            ],
            "source": [
                "env = make_env(env_name)\n",
                "\n",
                "test_agent = DQNAgent(\n",
                "    obs_space_shape=env.observation_space.shape,\n",
                "    action_space_dims=env.action_space.n,\n",
                "    is_atari=True,\n",
                ")\n",
                "test_agent.policy_network.load_state_dict(torch.load(save_model_name))\n",
                "total_reward = 0\n",
                "\n",
                "total_reward = 0\n",
                "state = env.reset()\n",
                "while True:\n",
                "    env.render()\n",
                "    action = test_agent.select_action(state, 0.)\n",
                "    state, reward, done, _ = env.step(action)\n",
                "    total_reward += reward\n",
                "    if done:\n",
                "        break\n",
                "env.close()"
            ]
        }
    ],
    "metadata": {
        "kernelspec": {
            "display_name": "test",
            "language": "python",
            "name": "python3"
        },
        "language_info": {
            "codemirror_mode": {
                "name": "ipython",
                "version": 3
            },
            "file_extension": ".py",
            "mimetype": "text/x-python",
            "name": "python",
            "nbconvert_exporter": "python",
            "pygments_lexer": "ipython3",
            "version": "3.8.15 (default, Nov 24 2022, 15:19:38) \n[GCC 11.2.0]"
        },
        "orig_nbformat": 4,
        "vscode": {
            "interpreter": {
                "hash": "2079ad370c17dffbaa1cef888f8327d4562759f468d0bda43c9a0b46b2857d81"
            }
        }
    },
    "nbformat": 4,
    "nbformat_minor": 2
}